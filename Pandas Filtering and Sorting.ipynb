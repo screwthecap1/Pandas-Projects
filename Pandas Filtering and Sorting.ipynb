{
 "cells": [
  {
   "metadata": {
    "ExecuteTime": {
     "end_time": "2024-07-23T07:57:40.779564Z",
     "start_time": "2024-07-23T07:57:40.451248Z"
    }
   },
   "cell_type": "code",
   "source": [
    "import pandas as pd\n",
    "import numpy as np"
   ],
   "id": "dd8958201365a01f",
   "outputs": [],
   "execution_count": 1
  },
  {
   "cell_type": "code",
   "id": "initial_id",
   "metadata": {
    "collapsed": true,
    "ExecuteTime": {
     "end_time": "2024-07-23T07:57:40.795540Z",
     "start_time": "2024-07-23T07:57:40.779564Z"
    }
   },
   "source": [
    "forum_users = {\n",
    "    'User ID': [1, 2, 3, 4, 5],\n",
    "    'Username': ['klimsky', 'purt_120', 'fili_q', 'lupurpp', 'destralll'],\n",
    "    'Age': [18, 20, 25, 30, 40],\n",
    "    'Joined Date': pd.to_datetime(['2025-02-03', '2025-03-30', '2025-08-19', '2025-12-06', '2025-10-17']),\n",
    "    'Total Posts': [300, 150, 200, 40, None],\n",
    "    'Reputation': [70, 500, 90, 170, 40],\n",
    "}\n",
    "\n",
    "df = pd.DataFrame(forum_users)\n",
    "df"
   ],
   "outputs": [
    {
     "data": {
      "text/plain": [
       "   User ID   Username  Age Joined Date  Total Posts  Reputation\n",
       "0        1    klimsky   18  2025-02-03        300.0          70\n",
       "1        2   purt_120   20  2025-03-30        150.0         500\n",
       "2        3     fili_q   25  2025-08-19        200.0          90\n",
       "3        4    lupurpp   30  2025-12-06         40.0         170\n",
       "4        5  destralll   40  2025-10-17          NaN          40"
      ],
      "text/html": [
       "<div>\n",
       "<style scoped>\n",
       "    .dataframe tbody tr th:only-of-type {\n",
       "        vertical-align: middle;\n",
       "    }\n",
       "\n",
       "    .dataframe tbody tr th {\n",
       "        vertical-align: top;\n",
       "    }\n",
       "\n",
       "    .dataframe thead th {\n",
       "        text-align: right;\n",
       "    }\n",
       "</style>\n",
       "<table border=\"1\" class=\"dataframe\">\n",
       "  <thead>\n",
       "    <tr style=\"text-align: right;\">\n",
       "      <th></th>\n",
       "      <th>User ID</th>\n",
       "      <th>Username</th>\n",
       "      <th>Age</th>\n",
       "      <th>Joined Date</th>\n",
       "      <th>Total Posts</th>\n",
       "      <th>Reputation</th>\n",
       "    </tr>\n",
       "  </thead>\n",
       "  <tbody>\n",
       "    <tr>\n",
       "      <th>0</th>\n",
       "      <td>1</td>\n",
       "      <td>klimsky</td>\n",
       "      <td>18</td>\n",
       "      <td>2025-02-03</td>\n",
       "      <td>300.0</td>\n",
       "      <td>70</td>\n",
       "    </tr>\n",
       "    <tr>\n",
       "      <th>1</th>\n",
       "      <td>2</td>\n",
       "      <td>purt_120</td>\n",
       "      <td>20</td>\n",
       "      <td>2025-03-30</td>\n",
       "      <td>150.0</td>\n",
       "      <td>500</td>\n",
       "    </tr>\n",
       "    <tr>\n",
       "      <th>2</th>\n",
       "      <td>3</td>\n",
       "      <td>fili_q</td>\n",
       "      <td>25</td>\n",
       "      <td>2025-08-19</td>\n",
       "      <td>200.0</td>\n",
       "      <td>90</td>\n",
       "    </tr>\n",
       "    <tr>\n",
       "      <th>3</th>\n",
       "      <td>4</td>\n",
       "      <td>lupurpp</td>\n",
       "      <td>30</td>\n",
       "      <td>2025-12-06</td>\n",
       "      <td>40.0</td>\n",
       "      <td>170</td>\n",
       "    </tr>\n",
       "    <tr>\n",
       "      <th>4</th>\n",
       "      <td>5</td>\n",
       "      <td>destralll</td>\n",
       "      <td>40</td>\n",
       "      <td>2025-10-17</td>\n",
       "      <td>NaN</td>\n",
       "      <td>40</td>\n",
       "    </tr>\n",
       "  </tbody>\n",
       "</table>\n",
       "</div>"
      ]
     },
     "execution_count": 2,
     "metadata": {},
     "output_type": "execute_result"
    }
   ],
   "execution_count": 2
  },
  {
   "metadata": {},
   "cell_type": "markdown",
   "source": "## Filtering",
   "id": "16dc09a5ce7066ae"
  },
  {
   "metadata": {
    "ExecuteTime": {
     "end_time": "2024-07-23T07:57:40.803732Z",
     "start_time": "2024-07-23T07:57:40.797356Z"
    }
   },
   "cell_type": "code",
   "source": "df[['Username', 'Age']]",
   "id": "eeb7403da64a0a83",
   "outputs": [
    {
     "data": {
      "text/plain": [
       "    Username  Age\n",
       "0    klimsky   18\n",
       "1   purt_120   20\n",
       "2     fili_q   25\n",
       "3    lupurpp   30\n",
       "4  destralll   40"
      ],
      "text/html": [
       "<div>\n",
       "<style scoped>\n",
       "    .dataframe tbody tr th:only-of-type {\n",
       "        vertical-align: middle;\n",
       "    }\n",
       "\n",
       "    .dataframe tbody tr th {\n",
       "        vertical-align: top;\n",
       "    }\n",
       "\n",
       "    .dataframe thead th {\n",
       "        text-align: right;\n",
       "    }\n",
       "</style>\n",
       "<table border=\"1\" class=\"dataframe\">\n",
       "  <thead>\n",
       "    <tr style=\"text-align: right;\">\n",
       "      <th></th>\n",
       "      <th>Username</th>\n",
       "      <th>Age</th>\n",
       "    </tr>\n",
       "  </thead>\n",
       "  <tbody>\n",
       "    <tr>\n",
       "      <th>0</th>\n",
       "      <td>klimsky</td>\n",
       "      <td>18</td>\n",
       "    </tr>\n",
       "    <tr>\n",
       "      <th>1</th>\n",
       "      <td>purt_120</td>\n",
       "      <td>20</td>\n",
       "    </tr>\n",
       "    <tr>\n",
       "      <th>2</th>\n",
       "      <td>fili_q</td>\n",
       "      <td>25</td>\n",
       "    </tr>\n",
       "    <tr>\n",
       "      <th>3</th>\n",
       "      <td>lupurpp</td>\n",
       "      <td>30</td>\n",
       "    </tr>\n",
       "    <tr>\n",
       "      <th>4</th>\n",
       "      <td>destralll</td>\n",
       "      <td>40</td>\n",
       "    </tr>\n",
       "  </tbody>\n",
       "</table>\n",
       "</div>"
      ]
     },
     "execution_count": 3,
     "metadata": {},
     "output_type": "execute_result"
    }
   ],
   "execution_count": 3
  },
  {
   "metadata": {
    "ExecuteTime": {
     "end_time": "2024-07-23T07:57:40.810054Z",
     "start_time": "2024-07-23T07:57:40.803732Z"
    }
   },
   "cell_type": "code",
   "source": "df.loc[4]",
   "id": "bbcfd58c09272112",
   "outputs": [
    {
     "data": {
      "text/plain": [
       "User ID                          5\n",
       "Username                 destralll\n",
       "Age                             40\n",
       "Joined Date    2025-10-17 00:00:00\n",
       "Total Posts                    NaN\n",
       "Reputation                      40\n",
       "Name: 4, dtype: object"
      ]
     },
     "execution_count": 4,
     "metadata": {},
     "output_type": "execute_result"
    }
   ],
   "execution_count": 4
  },
  {
   "metadata": {
    "ExecuteTime": {
     "end_time": "2024-07-23T07:57:40.817787Z",
     "start_time": "2024-07-23T07:57:40.810054Z"
    }
   },
   "cell_type": "code",
   "source": "df.loc[2:3]",
   "id": "fde284af76bbf515",
   "outputs": [
    {
     "data": {
      "text/plain": [
       "   User ID Username  Age Joined Date  Total Posts  Reputation\n",
       "2        3   fili_q   25  2025-08-19        200.0          90\n",
       "3        4  lupurpp   30  2025-12-06         40.0         170"
      ],
      "text/html": [
       "<div>\n",
       "<style scoped>\n",
       "    .dataframe tbody tr th:only-of-type {\n",
       "        vertical-align: middle;\n",
       "    }\n",
       "\n",
       "    .dataframe tbody tr th {\n",
       "        vertical-align: top;\n",
       "    }\n",
       "\n",
       "    .dataframe thead th {\n",
       "        text-align: right;\n",
       "    }\n",
       "</style>\n",
       "<table border=\"1\" class=\"dataframe\">\n",
       "  <thead>\n",
       "    <tr style=\"text-align: right;\">\n",
       "      <th></th>\n",
       "      <th>User ID</th>\n",
       "      <th>Username</th>\n",
       "      <th>Age</th>\n",
       "      <th>Joined Date</th>\n",
       "      <th>Total Posts</th>\n",
       "      <th>Reputation</th>\n",
       "    </tr>\n",
       "  </thead>\n",
       "  <tbody>\n",
       "    <tr>\n",
       "      <th>2</th>\n",
       "      <td>3</td>\n",
       "      <td>fili_q</td>\n",
       "      <td>25</td>\n",
       "      <td>2025-08-19</td>\n",
       "      <td>200.0</td>\n",
       "      <td>90</td>\n",
       "    </tr>\n",
       "    <tr>\n",
       "      <th>3</th>\n",
       "      <td>4</td>\n",
       "      <td>lupurpp</td>\n",
       "      <td>30</td>\n",
       "      <td>2025-12-06</td>\n",
       "      <td>40.0</td>\n",
       "      <td>170</td>\n",
       "    </tr>\n",
       "  </tbody>\n",
       "</table>\n",
       "</div>"
      ]
     },
     "execution_count": 5,
     "metadata": {},
     "output_type": "execute_result"
    }
   ],
   "execution_count": 5
  },
  {
   "metadata": {
    "ExecuteTime": {
     "end_time": "2024-07-23T07:57:40.826039Z",
     "start_time": "2024-07-23T07:57:40.817787Z"
    }
   },
   "cell_type": "code",
   "source": "df.loc[2:3, ['Username', 'Joined Date', 'Reputation']]",
   "id": "bbe7f057e9f8fd0b",
   "outputs": [
    {
     "data": {
      "text/plain": [
       "  Username Joined Date  Reputation\n",
       "2   fili_q  2025-08-19          90\n",
       "3  lupurpp  2025-12-06         170"
      ],
      "text/html": [
       "<div>\n",
       "<style scoped>\n",
       "    .dataframe tbody tr th:only-of-type {\n",
       "        vertical-align: middle;\n",
       "    }\n",
       "\n",
       "    .dataframe tbody tr th {\n",
       "        vertical-align: top;\n",
       "    }\n",
       "\n",
       "    .dataframe thead th {\n",
       "        text-align: right;\n",
       "    }\n",
       "</style>\n",
       "<table border=\"1\" class=\"dataframe\">\n",
       "  <thead>\n",
       "    <tr style=\"text-align: right;\">\n",
       "      <th></th>\n",
       "      <th>Username</th>\n",
       "      <th>Joined Date</th>\n",
       "      <th>Reputation</th>\n",
       "    </tr>\n",
       "  </thead>\n",
       "  <tbody>\n",
       "    <tr>\n",
       "      <th>2</th>\n",
       "      <td>fili_q</td>\n",
       "      <td>2025-08-19</td>\n",
       "      <td>90</td>\n",
       "    </tr>\n",
       "    <tr>\n",
       "      <th>3</th>\n",
       "      <td>lupurpp</td>\n",
       "      <td>2025-12-06</td>\n",
       "      <td>170</td>\n",
       "    </tr>\n",
       "  </tbody>\n",
       "</table>\n",
       "</div>"
      ]
     },
     "execution_count": 6,
     "metadata": {},
     "output_type": "execute_result"
    }
   ],
   "execution_count": 6
  },
  {
   "metadata": {
    "ExecuteTime": {
     "end_time": "2024-07-23T07:57:40.831945Z",
     "start_time": "2024-07-23T07:57:40.826039Z"
    }
   },
   "cell_type": "code",
   "source": "df.iloc[3]",
   "id": "df2c21ebafe39d4c",
   "outputs": [
    {
     "data": {
      "text/plain": [
       "User ID                          4\n",
       "Username                   lupurpp\n",
       "Age                             30\n",
       "Joined Date    2025-12-06 00:00:00\n",
       "Total Posts                   40.0\n",
       "Reputation                     170\n",
       "Name: 3, dtype: object"
      ]
     },
     "execution_count": 7,
     "metadata": {},
     "output_type": "execute_result"
    }
   ],
   "execution_count": 7
  },
  {
   "metadata": {
    "ExecuteTime": {
     "end_time": "2024-07-23T07:57:40.839808Z",
     "start_time": "2024-07-23T07:57:40.832454Z"
    }
   },
   "cell_type": "code",
   "source": "df.iloc[2:4]",
   "id": "23799de5dd5f6ac4",
   "outputs": [
    {
     "data": {
      "text/plain": [
       "   User ID Username  Age Joined Date  Total Posts  Reputation\n",
       "2        3   fili_q   25  2025-08-19        200.0          90\n",
       "3        4  lupurpp   30  2025-12-06         40.0         170"
      ],
      "text/html": [
       "<div>\n",
       "<style scoped>\n",
       "    .dataframe tbody tr th:only-of-type {\n",
       "        vertical-align: middle;\n",
       "    }\n",
       "\n",
       "    .dataframe tbody tr th {\n",
       "        vertical-align: top;\n",
       "    }\n",
       "\n",
       "    .dataframe thead th {\n",
       "        text-align: right;\n",
       "    }\n",
       "</style>\n",
       "<table border=\"1\" class=\"dataframe\">\n",
       "  <thead>\n",
       "    <tr style=\"text-align: right;\">\n",
       "      <th></th>\n",
       "      <th>User ID</th>\n",
       "      <th>Username</th>\n",
       "      <th>Age</th>\n",
       "      <th>Joined Date</th>\n",
       "      <th>Total Posts</th>\n",
       "      <th>Reputation</th>\n",
       "    </tr>\n",
       "  </thead>\n",
       "  <tbody>\n",
       "    <tr>\n",
       "      <th>2</th>\n",
       "      <td>3</td>\n",
       "      <td>fili_q</td>\n",
       "      <td>25</td>\n",
       "      <td>2025-08-19</td>\n",
       "      <td>200.0</td>\n",
       "      <td>90</td>\n",
       "    </tr>\n",
       "    <tr>\n",
       "      <th>3</th>\n",
       "      <td>4</td>\n",
       "      <td>lupurpp</td>\n",
       "      <td>30</td>\n",
       "      <td>2025-12-06</td>\n",
       "      <td>40.0</td>\n",
       "      <td>170</td>\n",
       "    </tr>\n",
       "  </tbody>\n",
       "</table>\n",
       "</div>"
      ]
     },
     "execution_count": 8,
     "metadata": {},
     "output_type": "execute_result"
    }
   ],
   "execution_count": 8
  },
  {
   "metadata": {
    "ExecuteTime": {
     "end_time": "2024-07-23T07:57:40.849236Z",
     "start_time": "2024-07-23T07:57:40.842505Z"
    }
   },
   "cell_type": "code",
   "source": "df.iloc[2:4, 1:4]",
   "id": "8d2035177e18fbc2",
   "outputs": [
    {
     "data": {
      "text/plain": [
       "  Username  Age Joined Date\n",
       "2   fili_q   25  2025-08-19\n",
       "3  lupurpp   30  2025-12-06"
      ],
      "text/html": [
       "<div>\n",
       "<style scoped>\n",
       "    .dataframe tbody tr th:only-of-type {\n",
       "        vertical-align: middle;\n",
       "    }\n",
       "\n",
       "    .dataframe tbody tr th {\n",
       "        vertical-align: top;\n",
       "    }\n",
       "\n",
       "    .dataframe thead th {\n",
       "        text-align: right;\n",
       "    }\n",
       "</style>\n",
       "<table border=\"1\" class=\"dataframe\">\n",
       "  <thead>\n",
       "    <tr style=\"text-align: right;\">\n",
       "      <th></th>\n",
       "      <th>Username</th>\n",
       "      <th>Age</th>\n",
       "      <th>Joined Date</th>\n",
       "    </tr>\n",
       "  </thead>\n",
       "  <tbody>\n",
       "    <tr>\n",
       "      <th>2</th>\n",
       "      <td>fili_q</td>\n",
       "      <td>25</td>\n",
       "      <td>2025-08-19</td>\n",
       "    </tr>\n",
       "    <tr>\n",
       "      <th>3</th>\n",
       "      <td>lupurpp</td>\n",
       "      <td>30</td>\n",
       "      <td>2025-12-06</td>\n",
       "    </tr>\n",
       "  </tbody>\n",
       "</table>\n",
       "</div>"
      ]
     },
     "execution_count": 9,
     "metadata": {},
     "output_type": "execute_result"
    }
   ],
   "execution_count": 9
  },
  {
   "metadata": {
    "ExecuteTime": {
     "end_time": "2024-07-23T07:57:40.857101Z",
     "start_time": "2024-07-23T07:57:40.849236Z"
    }
   },
   "cell_type": "code",
   "source": "df.iloc[:]",
   "id": "9afca4dca80a2d40",
   "outputs": [
    {
     "data": {
      "text/plain": [
       "   User ID   Username  Age Joined Date  Total Posts  Reputation\n",
       "0        1    klimsky   18  2025-02-03        300.0          70\n",
       "1        2   purt_120   20  2025-03-30        150.0         500\n",
       "2        3     fili_q   25  2025-08-19        200.0          90\n",
       "3        4    lupurpp   30  2025-12-06         40.0         170\n",
       "4        5  destralll   40  2025-10-17          NaN          40"
      ],
      "text/html": [
       "<div>\n",
       "<style scoped>\n",
       "    .dataframe tbody tr th:only-of-type {\n",
       "        vertical-align: middle;\n",
       "    }\n",
       "\n",
       "    .dataframe tbody tr th {\n",
       "        vertical-align: top;\n",
       "    }\n",
       "\n",
       "    .dataframe thead th {\n",
       "        text-align: right;\n",
       "    }\n",
       "</style>\n",
       "<table border=\"1\" class=\"dataframe\">\n",
       "  <thead>\n",
       "    <tr style=\"text-align: right;\">\n",
       "      <th></th>\n",
       "      <th>User ID</th>\n",
       "      <th>Username</th>\n",
       "      <th>Age</th>\n",
       "      <th>Joined Date</th>\n",
       "      <th>Total Posts</th>\n",
       "      <th>Reputation</th>\n",
       "    </tr>\n",
       "  </thead>\n",
       "  <tbody>\n",
       "    <tr>\n",
       "      <th>0</th>\n",
       "      <td>1</td>\n",
       "      <td>klimsky</td>\n",
       "      <td>18</td>\n",
       "      <td>2025-02-03</td>\n",
       "      <td>300.0</td>\n",
       "      <td>70</td>\n",
       "    </tr>\n",
       "    <tr>\n",
       "      <th>1</th>\n",
       "      <td>2</td>\n",
       "      <td>purt_120</td>\n",
       "      <td>20</td>\n",
       "      <td>2025-03-30</td>\n",
       "      <td>150.0</td>\n",
       "      <td>500</td>\n",
       "    </tr>\n",
       "    <tr>\n",
       "      <th>2</th>\n",
       "      <td>3</td>\n",
       "      <td>fili_q</td>\n",
       "      <td>25</td>\n",
       "      <td>2025-08-19</td>\n",
       "      <td>200.0</td>\n",
       "      <td>90</td>\n",
       "    </tr>\n",
       "    <tr>\n",
       "      <th>3</th>\n",
       "      <td>4</td>\n",
       "      <td>lupurpp</td>\n",
       "      <td>30</td>\n",
       "      <td>2025-12-06</td>\n",
       "      <td>40.0</td>\n",
       "      <td>170</td>\n",
       "    </tr>\n",
       "    <tr>\n",
       "      <th>4</th>\n",
       "      <td>5</td>\n",
       "      <td>destralll</td>\n",
       "      <td>40</td>\n",
       "      <td>2025-10-17</td>\n",
       "      <td>NaN</td>\n",
       "      <td>40</td>\n",
       "    </tr>\n",
       "  </tbody>\n",
       "</table>\n",
       "</div>"
      ]
     },
     "execution_count": 10,
     "metadata": {},
     "output_type": "execute_result"
    }
   ],
   "execution_count": 10
  },
  {
   "metadata": {
    "ExecuteTime": {
     "end_time": "2024-07-23T07:57:40.863994Z",
     "start_time": "2024-07-23T07:57:40.857101Z"
    }
   },
   "cell_type": "code",
   "source": "df.iloc[:, 1:3]",
   "id": "ea3dc45aefc5fbfe",
   "outputs": [
    {
     "data": {
      "text/plain": [
       "    Username  Age\n",
       "0    klimsky   18\n",
       "1   purt_120   20\n",
       "2     fili_q   25\n",
       "3    lupurpp   30\n",
       "4  destralll   40"
      ],
      "text/html": [
       "<div>\n",
       "<style scoped>\n",
       "    .dataframe tbody tr th:only-of-type {\n",
       "        vertical-align: middle;\n",
       "    }\n",
       "\n",
       "    .dataframe tbody tr th {\n",
       "        vertical-align: top;\n",
       "    }\n",
       "\n",
       "    .dataframe thead th {\n",
       "        text-align: right;\n",
       "    }\n",
       "</style>\n",
       "<table border=\"1\" class=\"dataframe\">\n",
       "  <thead>\n",
       "    <tr style=\"text-align: right;\">\n",
       "      <th></th>\n",
       "      <th>Username</th>\n",
       "      <th>Age</th>\n",
       "    </tr>\n",
       "  </thead>\n",
       "  <tbody>\n",
       "    <tr>\n",
       "      <th>0</th>\n",
       "      <td>klimsky</td>\n",
       "      <td>18</td>\n",
       "    </tr>\n",
       "    <tr>\n",
       "      <th>1</th>\n",
       "      <td>purt_120</td>\n",
       "      <td>20</td>\n",
       "    </tr>\n",
       "    <tr>\n",
       "      <th>2</th>\n",
       "      <td>fili_q</td>\n",
       "      <td>25</td>\n",
       "    </tr>\n",
       "    <tr>\n",
       "      <th>3</th>\n",
       "      <td>lupurpp</td>\n",
       "      <td>30</td>\n",
       "    </tr>\n",
       "    <tr>\n",
       "      <th>4</th>\n",
       "      <td>destralll</td>\n",
       "      <td>40</td>\n",
       "    </tr>\n",
       "  </tbody>\n",
       "</table>\n",
       "</div>"
      ]
     },
     "execution_count": 11,
     "metadata": {},
     "output_type": "execute_result"
    }
   ],
   "execution_count": 11
  },
  {
   "metadata": {
    "ExecuteTime": {
     "end_time": "2024-07-23T07:57:40.871663Z",
     "start_time": "2024-07-23T07:57:40.863994Z"
    }
   },
   "cell_type": "code",
   "source": "df[df['Age'] >= 25]",
   "id": "890391b2a90b938c",
   "outputs": [
    {
     "data": {
      "text/plain": [
       "   User ID   Username  Age Joined Date  Total Posts  Reputation\n",
       "2        3     fili_q   25  2025-08-19        200.0          90\n",
       "3        4    lupurpp   30  2025-12-06         40.0         170\n",
       "4        5  destralll   40  2025-10-17          NaN          40"
      ],
      "text/html": [
       "<div>\n",
       "<style scoped>\n",
       "    .dataframe tbody tr th:only-of-type {\n",
       "        vertical-align: middle;\n",
       "    }\n",
       "\n",
       "    .dataframe tbody tr th {\n",
       "        vertical-align: top;\n",
       "    }\n",
       "\n",
       "    .dataframe thead th {\n",
       "        text-align: right;\n",
       "    }\n",
       "</style>\n",
       "<table border=\"1\" class=\"dataframe\">\n",
       "  <thead>\n",
       "    <tr style=\"text-align: right;\">\n",
       "      <th></th>\n",
       "      <th>User ID</th>\n",
       "      <th>Username</th>\n",
       "      <th>Age</th>\n",
       "      <th>Joined Date</th>\n",
       "      <th>Total Posts</th>\n",
       "      <th>Reputation</th>\n",
       "    </tr>\n",
       "  </thead>\n",
       "  <tbody>\n",
       "    <tr>\n",
       "      <th>2</th>\n",
       "      <td>3</td>\n",
       "      <td>fili_q</td>\n",
       "      <td>25</td>\n",
       "      <td>2025-08-19</td>\n",
       "      <td>200.0</td>\n",
       "      <td>90</td>\n",
       "    </tr>\n",
       "    <tr>\n",
       "      <th>3</th>\n",
       "      <td>4</td>\n",
       "      <td>lupurpp</td>\n",
       "      <td>30</td>\n",
       "      <td>2025-12-06</td>\n",
       "      <td>40.0</td>\n",
       "      <td>170</td>\n",
       "    </tr>\n",
       "    <tr>\n",
       "      <th>4</th>\n",
       "      <td>5</td>\n",
       "      <td>destralll</td>\n",
       "      <td>40</td>\n",
       "      <td>2025-10-17</td>\n",
       "      <td>NaN</td>\n",
       "      <td>40</td>\n",
       "    </tr>\n",
       "  </tbody>\n",
       "</table>\n",
       "</div>"
      ]
     },
     "execution_count": 12,
     "metadata": {},
     "output_type": "execute_result"
    }
   ],
   "execution_count": 12
  },
  {
   "metadata": {
    "ExecuteTime": {
     "end_time": "2024-07-23T07:57:40.877534Z",
     "start_time": "2024-07-23T07:57:40.871663Z"
    }
   },
   "cell_type": "code",
   "source": "df['Age'] >= 25",
   "id": "f7c7b5c9c0162041",
   "outputs": [
    {
     "data": {
      "text/plain": [
       "0    False\n",
       "1    False\n",
       "2     True\n",
       "3     True\n",
       "4     True\n",
       "Name: Age, dtype: bool"
      ]
     },
     "execution_count": 13,
     "metadata": {},
     "output_type": "execute_result"
    }
   ],
   "execution_count": 13
  },
  {
   "metadata": {
    "ExecuteTime": {
     "end_time": "2024-07-23T07:57:40.885345Z",
     "start_time": "2024-07-23T07:57:40.878043Z"
    }
   },
   "cell_type": "code",
   "source": "df[df['Reputation'] >= 40]",
   "id": "69c162f37a5f1dc7",
   "outputs": [
    {
     "data": {
      "text/plain": [
       "   User ID   Username  Age Joined Date  Total Posts  Reputation\n",
       "0        1    klimsky   18  2025-02-03        300.0          70\n",
       "1        2   purt_120   20  2025-03-30        150.0         500\n",
       "2        3     fili_q   25  2025-08-19        200.0          90\n",
       "3        4    lupurpp   30  2025-12-06         40.0         170\n",
       "4        5  destralll   40  2025-10-17          NaN          40"
      ],
      "text/html": [
       "<div>\n",
       "<style scoped>\n",
       "    .dataframe tbody tr th:only-of-type {\n",
       "        vertical-align: middle;\n",
       "    }\n",
       "\n",
       "    .dataframe tbody tr th {\n",
       "        vertical-align: top;\n",
       "    }\n",
       "\n",
       "    .dataframe thead th {\n",
       "        text-align: right;\n",
       "    }\n",
       "</style>\n",
       "<table border=\"1\" class=\"dataframe\">\n",
       "  <thead>\n",
       "    <tr style=\"text-align: right;\">\n",
       "      <th></th>\n",
       "      <th>User ID</th>\n",
       "      <th>Username</th>\n",
       "      <th>Age</th>\n",
       "      <th>Joined Date</th>\n",
       "      <th>Total Posts</th>\n",
       "      <th>Reputation</th>\n",
       "    </tr>\n",
       "  </thead>\n",
       "  <tbody>\n",
       "    <tr>\n",
       "      <th>0</th>\n",
       "      <td>1</td>\n",
       "      <td>klimsky</td>\n",
       "      <td>18</td>\n",
       "      <td>2025-02-03</td>\n",
       "      <td>300.0</td>\n",
       "      <td>70</td>\n",
       "    </tr>\n",
       "    <tr>\n",
       "      <th>1</th>\n",
       "      <td>2</td>\n",
       "      <td>purt_120</td>\n",
       "      <td>20</td>\n",
       "      <td>2025-03-30</td>\n",
       "      <td>150.0</td>\n",
       "      <td>500</td>\n",
       "    </tr>\n",
       "    <tr>\n",
       "      <th>2</th>\n",
       "      <td>3</td>\n",
       "      <td>fili_q</td>\n",
       "      <td>25</td>\n",
       "      <td>2025-08-19</td>\n",
       "      <td>200.0</td>\n",
       "      <td>90</td>\n",
       "    </tr>\n",
       "    <tr>\n",
       "      <th>3</th>\n",
       "      <td>4</td>\n",
       "      <td>lupurpp</td>\n",
       "      <td>30</td>\n",
       "      <td>2025-12-06</td>\n",
       "      <td>40.0</td>\n",
       "      <td>170</td>\n",
       "    </tr>\n",
       "    <tr>\n",
       "      <th>4</th>\n",
       "      <td>5</td>\n",
       "      <td>destralll</td>\n",
       "      <td>40</td>\n",
       "      <td>2025-10-17</td>\n",
       "      <td>NaN</td>\n",
       "      <td>40</td>\n",
       "    </tr>\n",
       "  </tbody>\n",
       "</table>\n",
       "</div>"
      ]
     },
     "execution_count": 14,
     "metadata": {},
     "output_type": "execute_result"
    }
   ],
   "execution_count": 14
  },
  {
   "metadata": {
    "ExecuteTime": {
     "end_time": "2024-07-23T07:57:40.893878Z",
     "start_time": "2024-07-23T07:57:40.885345Z"
    }
   },
   "cell_type": "code",
   "source": "df[(df['Age'] >= 25) & (df['Reputation'] >= 90)]",
   "id": "a47bcff84aa68cb7",
   "outputs": [
    {
     "data": {
      "text/plain": [
       "   User ID Username  Age Joined Date  Total Posts  Reputation\n",
       "2        3   fili_q   25  2025-08-19        200.0          90\n",
       "3        4  lupurpp   30  2025-12-06         40.0         170"
      ],
      "text/html": [
       "<div>\n",
       "<style scoped>\n",
       "    .dataframe tbody tr th:only-of-type {\n",
       "        vertical-align: middle;\n",
       "    }\n",
       "\n",
       "    .dataframe tbody tr th {\n",
       "        vertical-align: top;\n",
       "    }\n",
       "\n",
       "    .dataframe thead th {\n",
       "        text-align: right;\n",
       "    }\n",
       "</style>\n",
       "<table border=\"1\" class=\"dataframe\">\n",
       "  <thead>\n",
       "    <tr style=\"text-align: right;\">\n",
       "      <th></th>\n",
       "      <th>User ID</th>\n",
       "      <th>Username</th>\n",
       "      <th>Age</th>\n",
       "      <th>Joined Date</th>\n",
       "      <th>Total Posts</th>\n",
       "      <th>Reputation</th>\n",
       "    </tr>\n",
       "  </thead>\n",
       "  <tbody>\n",
       "    <tr>\n",
       "      <th>2</th>\n",
       "      <td>3</td>\n",
       "      <td>fili_q</td>\n",
       "      <td>25</td>\n",
       "      <td>2025-08-19</td>\n",
       "      <td>200.0</td>\n",
       "      <td>90</td>\n",
       "    </tr>\n",
       "    <tr>\n",
       "      <th>3</th>\n",
       "      <td>4</td>\n",
       "      <td>lupurpp</td>\n",
       "      <td>30</td>\n",
       "      <td>2025-12-06</td>\n",
       "      <td>40.0</td>\n",
       "      <td>170</td>\n",
       "    </tr>\n",
       "  </tbody>\n",
       "</table>\n",
       "</div>"
      ]
     },
     "execution_count": 15,
     "metadata": {},
     "output_type": "execute_result"
    }
   ],
   "execution_count": 15
  },
  {
   "metadata": {
    "ExecuteTime": {
     "end_time": "2024-07-23T07:57:40.902284Z",
     "start_time": "2024-07-23T07:57:40.893878Z"
    }
   },
   "cell_type": "code",
   "source": "df[(df['Age'] >= 25) | (df['Reputation'] <= 90)]",
   "id": "9984dbc34d9b009d",
   "outputs": [
    {
     "data": {
      "text/plain": [
       "   User ID   Username  Age Joined Date  Total Posts  Reputation\n",
       "0        1    klimsky   18  2025-02-03        300.0          70\n",
       "2        3     fili_q   25  2025-08-19        200.0          90\n",
       "3        4    lupurpp   30  2025-12-06         40.0         170\n",
       "4        5  destralll   40  2025-10-17          NaN          40"
      ],
      "text/html": [
       "<div>\n",
       "<style scoped>\n",
       "    .dataframe tbody tr th:only-of-type {\n",
       "        vertical-align: middle;\n",
       "    }\n",
       "\n",
       "    .dataframe tbody tr th {\n",
       "        vertical-align: top;\n",
       "    }\n",
       "\n",
       "    .dataframe thead th {\n",
       "        text-align: right;\n",
       "    }\n",
       "</style>\n",
       "<table border=\"1\" class=\"dataframe\">\n",
       "  <thead>\n",
       "    <tr style=\"text-align: right;\">\n",
       "      <th></th>\n",
       "      <th>User ID</th>\n",
       "      <th>Username</th>\n",
       "      <th>Age</th>\n",
       "      <th>Joined Date</th>\n",
       "      <th>Total Posts</th>\n",
       "      <th>Reputation</th>\n",
       "    </tr>\n",
       "  </thead>\n",
       "  <tbody>\n",
       "    <tr>\n",
       "      <th>0</th>\n",
       "      <td>1</td>\n",
       "      <td>klimsky</td>\n",
       "      <td>18</td>\n",
       "      <td>2025-02-03</td>\n",
       "      <td>300.0</td>\n",
       "      <td>70</td>\n",
       "    </tr>\n",
       "    <tr>\n",
       "      <th>2</th>\n",
       "      <td>3</td>\n",
       "      <td>fili_q</td>\n",
       "      <td>25</td>\n",
       "      <td>2025-08-19</td>\n",
       "      <td>200.0</td>\n",
       "      <td>90</td>\n",
       "    </tr>\n",
       "    <tr>\n",
       "      <th>3</th>\n",
       "      <td>4</td>\n",
       "      <td>lupurpp</td>\n",
       "      <td>30</td>\n",
       "      <td>2025-12-06</td>\n",
       "      <td>40.0</td>\n",
       "      <td>170</td>\n",
       "    </tr>\n",
       "    <tr>\n",
       "      <th>4</th>\n",
       "      <td>5</td>\n",
       "      <td>destralll</td>\n",
       "      <td>40</td>\n",
       "      <td>2025-10-17</td>\n",
       "      <td>NaN</td>\n",
       "      <td>40</td>\n",
       "    </tr>\n",
       "  </tbody>\n",
       "</table>\n",
       "</div>"
      ]
     },
     "execution_count": 16,
     "metadata": {},
     "output_type": "execute_result"
    }
   ],
   "execution_count": 16
  },
  {
   "metadata": {
    "ExecuteTime": {
     "end_time": "2024-07-23T07:57:40.908522Z",
     "start_time": "2024-07-23T07:57:40.902284Z"
    }
   },
   "cell_type": "code",
   "source": "df['Reputation'].isin([200, 500])",
   "id": "7542946fac193364",
   "outputs": [
    {
     "data": {
      "text/plain": [
       "0    False\n",
       "1     True\n",
       "2    False\n",
       "3    False\n",
       "4    False\n",
       "Name: Reputation, dtype: bool"
      ]
     },
     "execution_count": 17,
     "metadata": {},
     "output_type": "execute_result"
    }
   ],
   "execution_count": 17
  },
  {
   "metadata": {
    "ExecuteTime": {
     "end_time": "2024-07-23T07:57:40.916680Z",
     "start_time": "2024-07-23T07:57:40.908522Z"
    }
   },
   "cell_type": "code",
   "source": "df[df['Reputation'].isin([200, 500])]",
   "id": "20a68e80ea308833",
   "outputs": [
    {
     "data": {
      "text/plain": [
       "   User ID  Username  Age Joined Date  Total Posts  Reputation\n",
       "1        2  purt_120   20  2025-03-30        150.0         500"
      ],
      "text/html": [
       "<div>\n",
       "<style scoped>\n",
       "    .dataframe tbody tr th:only-of-type {\n",
       "        vertical-align: middle;\n",
       "    }\n",
       "\n",
       "    .dataframe tbody tr th {\n",
       "        vertical-align: top;\n",
       "    }\n",
       "\n",
       "    .dataframe thead th {\n",
       "        text-align: right;\n",
       "    }\n",
       "</style>\n",
       "<table border=\"1\" class=\"dataframe\">\n",
       "  <thead>\n",
       "    <tr style=\"text-align: right;\">\n",
       "      <th></th>\n",
       "      <th>User ID</th>\n",
       "      <th>Username</th>\n",
       "      <th>Age</th>\n",
       "      <th>Joined Date</th>\n",
       "      <th>Total Posts</th>\n",
       "      <th>Reputation</th>\n",
       "    </tr>\n",
       "  </thead>\n",
       "  <tbody>\n",
       "    <tr>\n",
       "      <th>1</th>\n",
       "      <td>2</td>\n",
       "      <td>purt_120</td>\n",
       "      <td>20</td>\n",
       "      <td>2025-03-30</td>\n",
       "      <td>150.0</td>\n",
       "      <td>500</td>\n",
       "    </tr>\n",
       "  </tbody>\n",
       "</table>\n",
       "</div>"
      ]
     },
     "execution_count": 18,
     "metadata": {},
     "output_type": "execute_result"
    }
   ],
   "execution_count": 18
  },
  {
   "metadata": {
    "ExecuteTime": {
     "end_time": "2024-07-23T07:57:40.925218Z",
     "start_time": "2024-07-23T07:57:40.916680Z"
    }
   },
   "cell_type": "code",
   "source": "df[df['Total Posts'].isin(range(150, 200))]",
   "id": "f69d5fc590e6e012",
   "outputs": [
    {
     "data": {
      "text/plain": [
       "   User ID  Username  Age Joined Date  Total Posts  Reputation\n",
       "1        2  purt_120   20  2025-03-30        150.0         500"
      ],
      "text/html": [
       "<div>\n",
       "<style scoped>\n",
       "    .dataframe tbody tr th:only-of-type {\n",
       "        vertical-align: middle;\n",
       "    }\n",
       "\n",
       "    .dataframe tbody tr th {\n",
       "        vertical-align: top;\n",
       "    }\n",
       "\n",
       "    .dataframe thead th {\n",
       "        text-align: right;\n",
       "    }\n",
       "</style>\n",
       "<table border=\"1\" class=\"dataframe\">\n",
       "  <thead>\n",
       "    <tr style=\"text-align: right;\">\n",
       "      <th></th>\n",
       "      <th>User ID</th>\n",
       "      <th>Username</th>\n",
       "      <th>Age</th>\n",
       "      <th>Joined Date</th>\n",
       "      <th>Total Posts</th>\n",
       "      <th>Reputation</th>\n",
       "    </tr>\n",
       "  </thead>\n",
       "  <tbody>\n",
       "    <tr>\n",
       "      <th>1</th>\n",
       "      <td>2</td>\n",
       "      <td>purt_120</td>\n",
       "      <td>20</td>\n",
       "      <td>2025-03-30</td>\n",
       "      <td>150.0</td>\n",
       "      <td>500</td>\n",
       "    </tr>\n",
       "  </tbody>\n",
       "</table>\n",
       "</div>"
      ]
     },
     "execution_count": 19,
     "metadata": {},
     "output_type": "execute_result"
    }
   ],
   "execution_count": 19
  },
  {
   "metadata": {
    "ExecuteTime": {
     "end_time": "2024-07-23T07:57:52.954171Z",
     "start_time": "2024-07-23T07:57:52.948015Z"
    }
   },
   "cell_type": "code",
   "source": [
    "date_range = pd.date_range(start='2025-08-01', end='2025-10-17')\n",
    "date_range"
   ],
   "id": "76500f19cace8250",
   "outputs": [
    {
     "data": {
      "text/plain": [
       "DatetimeIndex(['2025-08-01', '2025-08-02', '2025-08-03', '2025-08-04',\n",
       "               '2025-08-05', '2025-08-06', '2025-08-07', '2025-08-08',\n",
       "               '2025-08-09', '2025-08-10', '2025-08-11', '2025-08-12',\n",
       "               '2025-08-13', '2025-08-14', '2025-08-15', '2025-08-16',\n",
       "               '2025-08-17', '2025-08-18', '2025-08-19', '2025-08-20',\n",
       "               '2025-08-21', '2025-08-22', '2025-08-23', '2025-08-24',\n",
       "               '2025-08-25', '2025-08-26', '2025-08-27', '2025-08-28',\n",
       "               '2025-08-29', '2025-08-30', '2025-08-31', '2025-09-01',\n",
       "               '2025-09-02', '2025-09-03', '2025-09-04', '2025-09-05',\n",
       "               '2025-09-06', '2025-09-07', '2025-09-08', '2025-09-09',\n",
       "               '2025-09-10', '2025-09-11', '2025-09-12', '2025-09-13',\n",
       "               '2025-09-14', '2025-09-15', '2025-09-16', '2025-09-17',\n",
       "               '2025-09-18', '2025-09-19', '2025-09-20', '2025-09-21',\n",
       "               '2025-09-22', '2025-09-23', '2025-09-24', '2025-09-25',\n",
       "               '2025-09-26', '2025-09-27', '2025-09-28', '2025-09-29',\n",
       "               '2025-09-30', '2025-10-01', '2025-10-02', '2025-10-03',\n",
       "               '2025-10-04', '2025-10-05', '2025-10-06', '2025-10-07',\n",
       "               '2025-10-08', '2025-10-09', '2025-10-10', '2025-10-11',\n",
       "               '2025-10-12', '2025-10-13', '2025-10-14', '2025-10-15',\n",
       "               '2025-10-16', '2025-10-17'],\n",
       "              dtype='datetime64[ns]', freq='D')"
      ]
     },
     "execution_count": 21,
     "metadata": {},
     "output_type": "execute_result"
    }
   ],
   "execution_count": 21
  },
  {
   "metadata": {
    "ExecuteTime": {
     "end_time": "2024-07-23T07:58:28.739676Z",
     "start_time": "2024-07-23T07:58:28.729394Z"
    }
   },
   "cell_type": "code",
   "source": "df[df['Joined Date'].isin(date_range)]",
   "id": "b10444b53170ef0f",
   "outputs": [
    {
     "data": {
      "text/plain": [
       "   User ID   Username  Age Joined Date  Total Posts  Reputation\n",
       "2        3     fili_q   25  2025-08-19        200.0          90\n",
       "4        5  destralll   40  2025-10-17          NaN          40"
      ],
      "text/html": [
       "<div>\n",
       "<style scoped>\n",
       "    .dataframe tbody tr th:only-of-type {\n",
       "        vertical-align: middle;\n",
       "    }\n",
       "\n",
       "    .dataframe tbody tr th {\n",
       "        vertical-align: top;\n",
       "    }\n",
       "\n",
       "    .dataframe thead th {\n",
       "        text-align: right;\n",
       "    }\n",
       "</style>\n",
       "<table border=\"1\" class=\"dataframe\">\n",
       "  <thead>\n",
       "    <tr style=\"text-align: right;\">\n",
       "      <th></th>\n",
       "      <th>User ID</th>\n",
       "      <th>Username</th>\n",
       "      <th>Age</th>\n",
       "      <th>Joined Date</th>\n",
       "      <th>Total Posts</th>\n",
       "      <th>Reputation</th>\n",
       "    </tr>\n",
       "  </thead>\n",
       "  <tbody>\n",
       "    <tr>\n",
       "      <th>2</th>\n",
       "      <td>3</td>\n",
       "      <td>fili_q</td>\n",
       "      <td>25</td>\n",
       "      <td>2025-08-19</td>\n",
       "      <td>200.0</td>\n",
       "      <td>90</td>\n",
       "    </tr>\n",
       "    <tr>\n",
       "      <th>4</th>\n",
       "      <td>5</td>\n",
       "      <td>destralll</td>\n",
       "      <td>40</td>\n",
       "      <td>2025-10-17</td>\n",
       "      <td>NaN</td>\n",
       "      <td>40</td>\n",
       "    </tr>\n",
       "  </tbody>\n",
       "</table>\n",
       "</div>"
      ]
     },
     "execution_count": 22,
     "metadata": {},
     "output_type": "execute_result"
    }
   ],
   "execution_count": 22
  },
  {
   "metadata": {},
   "cell_type": "markdown",
   "source": "## Sorting",
   "id": "7292fe59614e6cfd"
  },
  {
   "metadata": {
    "ExecuteTime": {
     "end_time": "2024-07-23T08:00:16.759857Z",
     "start_time": "2024-07-23T08:00:16.751988Z"
    }
   },
   "cell_type": "code",
   "source": "df.sort_values(by='Joined Date', ascending=True)",
   "id": "f1f180ad55e2fcd8",
   "outputs": [
    {
     "data": {
      "text/plain": [
       "   User ID   Username  Age Joined Date  Total Posts  Reputation\n",
       "0        1    klimsky   18  2025-02-03        300.0          70\n",
       "1        2   purt_120   20  2025-03-30        150.0         500\n",
       "2        3     fili_q   25  2025-08-19        200.0          90\n",
       "4        5  destralll   40  2025-10-17          NaN          40\n",
       "3        4    lupurpp   30  2025-12-06         40.0         170"
      ],
      "text/html": [
       "<div>\n",
       "<style scoped>\n",
       "    .dataframe tbody tr th:only-of-type {\n",
       "        vertical-align: middle;\n",
       "    }\n",
       "\n",
       "    .dataframe tbody tr th {\n",
       "        vertical-align: top;\n",
       "    }\n",
       "\n",
       "    .dataframe thead th {\n",
       "        text-align: right;\n",
       "    }\n",
       "</style>\n",
       "<table border=\"1\" class=\"dataframe\">\n",
       "  <thead>\n",
       "    <tr style=\"text-align: right;\">\n",
       "      <th></th>\n",
       "      <th>User ID</th>\n",
       "      <th>Username</th>\n",
       "      <th>Age</th>\n",
       "      <th>Joined Date</th>\n",
       "      <th>Total Posts</th>\n",
       "      <th>Reputation</th>\n",
       "    </tr>\n",
       "  </thead>\n",
       "  <tbody>\n",
       "    <tr>\n",
       "      <th>0</th>\n",
       "      <td>1</td>\n",
       "      <td>klimsky</td>\n",
       "      <td>18</td>\n",
       "      <td>2025-02-03</td>\n",
       "      <td>300.0</td>\n",
       "      <td>70</td>\n",
       "    </tr>\n",
       "    <tr>\n",
       "      <th>1</th>\n",
       "      <td>2</td>\n",
       "      <td>purt_120</td>\n",
       "      <td>20</td>\n",
       "      <td>2025-03-30</td>\n",
       "      <td>150.0</td>\n",
       "      <td>500</td>\n",
       "    </tr>\n",
       "    <tr>\n",
       "      <th>2</th>\n",
       "      <td>3</td>\n",
       "      <td>fili_q</td>\n",
       "      <td>25</td>\n",
       "      <td>2025-08-19</td>\n",
       "      <td>200.0</td>\n",
       "      <td>90</td>\n",
       "    </tr>\n",
       "    <tr>\n",
       "      <th>4</th>\n",
       "      <td>5</td>\n",
       "      <td>destralll</td>\n",
       "      <td>40</td>\n",
       "      <td>2025-10-17</td>\n",
       "      <td>NaN</td>\n",
       "      <td>40</td>\n",
       "    </tr>\n",
       "    <tr>\n",
       "      <th>3</th>\n",
       "      <td>4</td>\n",
       "      <td>lupurpp</td>\n",
       "      <td>30</td>\n",
       "      <td>2025-12-06</td>\n",
       "      <td>40.0</td>\n",
       "      <td>170</td>\n",
       "    </tr>\n",
       "  </tbody>\n",
       "</table>\n",
       "</div>"
      ]
     },
     "execution_count": 23,
     "metadata": {},
     "output_type": "execute_result"
    }
   ],
   "execution_count": 23
  },
  {
   "metadata": {
    "ExecuteTime": {
     "end_time": "2024-07-23T08:01:32.902791Z",
     "start_time": "2024-07-23T08:01:32.892950Z"
    }
   },
   "cell_type": "code",
   "source": "df.sort_values(by='Joined Date', ascending=False)",
   "id": "5ff735b96a75013",
   "outputs": [
    {
     "data": {
      "text/plain": [
       "   User ID   Username  Age Joined Date  Total Posts  Reputation\n",
       "3        4    lupurpp   30  2025-12-06         40.0         170\n",
       "4        5  destralll   40  2025-10-17          NaN          40\n",
       "2        3     fili_q   25  2025-08-19        200.0          90\n",
       "1        2   purt_120   20  2025-03-30        150.0         500\n",
       "0        1    klimsky   18  2025-02-03        300.0          70"
      ],
      "text/html": [
       "<div>\n",
       "<style scoped>\n",
       "    .dataframe tbody tr th:only-of-type {\n",
       "        vertical-align: middle;\n",
       "    }\n",
       "\n",
       "    .dataframe tbody tr th {\n",
       "        vertical-align: top;\n",
       "    }\n",
       "\n",
       "    .dataframe thead th {\n",
       "        text-align: right;\n",
       "    }\n",
       "</style>\n",
       "<table border=\"1\" class=\"dataframe\">\n",
       "  <thead>\n",
       "    <tr style=\"text-align: right;\">\n",
       "      <th></th>\n",
       "      <th>User ID</th>\n",
       "      <th>Username</th>\n",
       "      <th>Age</th>\n",
       "      <th>Joined Date</th>\n",
       "      <th>Total Posts</th>\n",
       "      <th>Reputation</th>\n",
       "    </tr>\n",
       "  </thead>\n",
       "  <tbody>\n",
       "    <tr>\n",
       "      <th>3</th>\n",
       "      <td>4</td>\n",
       "      <td>lupurpp</td>\n",
       "      <td>30</td>\n",
       "      <td>2025-12-06</td>\n",
       "      <td>40.0</td>\n",
       "      <td>170</td>\n",
       "    </tr>\n",
       "    <tr>\n",
       "      <th>4</th>\n",
       "      <td>5</td>\n",
       "      <td>destralll</td>\n",
       "      <td>40</td>\n",
       "      <td>2025-10-17</td>\n",
       "      <td>NaN</td>\n",
       "      <td>40</td>\n",
       "    </tr>\n",
       "    <tr>\n",
       "      <th>2</th>\n",
       "      <td>3</td>\n",
       "      <td>fili_q</td>\n",
       "      <td>25</td>\n",
       "      <td>2025-08-19</td>\n",
       "      <td>200.0</td>\n",
       "      <td>90</td>\n",
       "    </tr>\n",
       "    <tr>\n",
       "      <th>1</th>\n",
       "      <td>2</td>\n",
       "      <td>purt_120</td>\n",
       "      <td>20</td>\n",
       "      <td>2025-03-30</td>\n",
       "      <td>150.0</td>\n",
       "      <td>500</td>\n",
       "    </tr>\n",
       "    <tr>\n",
       "      <th>0</th>\n",
       "      <td>1</td>\n",
       "      <td>klimsky</td>\n",
       "      <td>18</td>\n",
       "      <td>2025-02-03</td>\n",
       "      <td>300.0</td>\n",
       "      <td>70</td>\n",
       "    </tr>\n",
       "  </tbody>\n",
       "</table>\n",
       "</div>"
      ]
     },
     "execution_count": 24,
     "metadata": {},
     "output_type": "execute_result"
    }
   ],
   "execution_count": 24
  },
  {
   "metadata": {
    "ExecuteTime": {
     "end_time": "2024-07-23T08:03:49.318277Z",
     "start_time": "2024-07-23T08:03:49.311757Z"
    }
   },
   "cell_type": "code",
   "source": "df[['User ID', 'Total Posts', 'Reputation']]",
   "id": "e1b42f9823c938e3",
   "outputs": [
    {
     "data": {
      "text/plain": [
       "   User ID  Total Posts  Reputation\n",
       "0        1        300.0          70\n",
       "1        2        150.0         500\n",
       "2        3        200.0          90\n",
       "3        4         40.0         170\n",
       "4        5          NaN          40"
      ],
      "text/html": [
       "<div>\n",
       "<style scoped>\n",
       "    .dataframe tbody tr th:only-of-type {\n",
       "        vertical-align: middle;\n",
       "    }\n",
       "\n",
       "    .dataframe tbody tr th {\n",
       "        vertical-align: top;\n",
       "    }\n",
       "\n",
       "    .dataframe thead th {\n",
       "        text-align: right;\n",
       "    }\n",
       "</style>\n",
       "<table border=\"1\" class=\"dataframe\">\n",
       "  <thead>\n",
       "    <tr style=\"text-align: right;\">\n",
       "      <th></th>\n",
       "      <th>User ID</th>\n",
       "      <th>Total Posts</th>\n",
       "      <th>Reputation</th>\n",
       "    </tr>\n",
       "  </thead>\n",
       "  <tbody>\n",
       "    <tr>\n",
       "      <th>0</th>\n",
       "      <td>1</td>\n",
       "      <td>300.0</td>\n",
       "      <td>70</td>\n",
       "    </tr>\n",
       "    <tr>\n",
       "      <th>1</th>\n",
       "      <td>2</td>\n",
       "      <td>150.0</td>\n",
       "      <td>500</td>\n",
       "    </tr>\n",
       "    <tr>\n",
       "      <th>2</th>\n",
       "      <td>3</td>\n",
       "      <td>200.0</td>\n",
       "      <td>90</td>\n",
       "    </tr>\n",
       "    <tr>\n",
       "      <th>3</th>\n",
       "      <td>4</td>\n",
       "      <td>40.0</td>\n",
       "      <td>170</td>\n",
       "    </tr>\n",
       "    <tr>\n",
       "      <th>4</th>\n",
       "      <td>5</td>\n",
       "      <td>NaN</td>\n",
       "      <td>40</td>\n",
       "    </tr>\n",
       "  </tbody>\n",
       "</table>\n",
       "</div>"
      ]
     },
     "execution_count": 26,
     "metadata": {},
     "output_type": "execute_result"
    }
   ],
   "execution_count": 26
  },
  {
   "metadata": {
    "ExecuteTime": {
     "end_time": "2024-07-23T08:04:44.431125Z",
     "start_time": "2024-07-23T08:04:44.423359Z"
    }
   },
   "cell_type": "code",
   "source": "df[['User ID', 'Total Posts', 'Reputation']].sort_values(by=2, axis=1, ascending=False)",
   "id": "185242158ef79117",
   "outputs": [
    {
     "data": {
      "text/plain": [
       "   Total Posts  Reputation  User ID\n",
       "0        300.0          70        1\n",
       "1        150.0         500        2\n",
       "2        200.0          90        3\n",
       "3         40.0         170        4\n",
       "4          NaN          40        5"
      ],
      "text/html": [
       "<div>\n",
       "<style scoped>\n",
       "    .dataframe tbody tr th:only-of-type {\n",
       "        vertical-align: middle;\n",
       "    }\n",
       "\n",
       "    .dataframe tbody tr th {\n",
       "        vertical-align: top;\n",
       "    }\n",
       "\n",
       "    .dataframe thead th {\n",
       "        text-align: right;\n",
       "    }\n",
       "</style>\n",
       "<table border=\"1\" class=\"dataframe\">\n",
       "  <thead>\n",
       "    <tr style=\"text-align: right;\">\n",
       "      <th></th>\n",
       "      <th>Total Posts</th>\n",
       "      <th>Reputation</th>\n",
       "      <th>User ID</th>\n",
       "    </tr>\n",
       "  </thead>\n",
       "  <tbody>\n",
       "    <tr>\n",
       "      <th>0</th>\n",
       "      <td>300.0</td>\n",
       "      <td>70</td>\n",
       "      <td>1</td>\n",
       "    </tr>\n",
       "    <tr>\n",
       "      <th>1</th>\n",
       "      <td>150.0</td>\n",
       "      <td>500</td>\n",
       "      <td>2</td>\n",
       "    </tr>\n",
       "    <tr>\n",
       "      <th>2</th>\n",
       "      <td>200.0</td>\n",
       "      <td>90</td>\n",
       "      <td>3</td>\n",
       "    </tr>\n",
       "    <tr>\n",
       "      <th>3</th>\n",
       "      <td>40.0</td>\n",
       "      <td>170</td>\n",
       "      <td>4</td>\n",
       "    </tr>\n",
       "    <tr>\n",
       "      <th>4</th>\n",
       "      <td>NaN</td>\n",
       "      <td>40</td>\n",
       "      <td>5</td>\n",
       "    </tr>\n",
       "  </tbody>\n",
       "</table>\n",
       "</div>"
      ]
     },
     "execution_count": 27,
     "metadata": {},
     "output_type": "execute_result"
    }
   ],
   "execution_count": 27
  },
  {
   "metadata": {
    "ExecuteTime": {
     "end_time": "2024-07-23T08:05:33.329105Z",
     "start_time": "2024-07-23T08:05:33.321736Z"
    }
   },
   "cell_type": "code",
   "source": "df[['User ID', 'Total Posts', 'Reputation']].sort_values(by=1, axis=1, ascending=False)",
   "id": "191e4afe01da8a56",
   "outputs": [
    {
     "data": {
      "text/plain": [
       "   Reputation  Total Posts  User ID\n",
       "0          70        300.0        1\n",
       "1         500        150.0        2\n",
       "2          90        200.0        3\n",
       "3         170         40.0        4\n",
       "4          40          NaN        5"
      ],
      "text/html": [
       "<div>\n",
       "<style scoped>\n",
       "    .dataframe tbody tr th:only-of-type {\n",
       "        vertical-align: middle;\n",
       "    }\n",
       "\n",
       "    .dataframe tbody tr th {\n",
       "        vertical-align: top;\n",
       "    }\n",
       "\n",
       "    .dataframe thead th {\n",
       "        text-align: right;\n",
       "    }\n",
       "</style>\n",
       "<table border=\"1\" class=\"dataframe\">\n",
       "  <thead>\n",
       "    <tr style=\"text-align: right;\">\n",
       "      <th></th>\n",
       "      <th>Reputation</th>\n",
       "      <th>Total Posts</th>\n",
       "      <th>User ID</th>\n",
       "    </tr>\n",
       "  </thead>\n",
       "  <tbody>\n",
       "    <tr>\n",
       "      <th>0</th>\n",
       "      <td>70</td>\n",
       "      <td>300.0</td>\n",
       "      <td>1</td>\n",
       "    </tr>\n",
       "    <tr>\n",
       "      <th>1</th>\n",
       "      <td>500</td>\n",
       "      <td>150.0</td>\n",
       "      <td>2</td>\n",
       "    </tr>\n",
       "    <tr>\n",
       "      <th>2</th>\n",
       "      <td>90</td>\n",
       "      <td>200.0</td>\n",
       "      <td>3</td>\n",
       "    </tr>\n",
       "    <tr>\n",
       "      <th>3</th>\n",
       "      <td>170</td>\n",
       "      <td>40.0</td>\n",
       "      <td>4</td>\n",
       "    </tr>\n",
       "    <tr>\n",
       "      <th>4</th>\n",
       "      <td>40</td>\n",
       "      <td>NaN</td>\n",
       "      <td>5</td>\n",
       "    </tr>\n",
       "  </tbody>\n",
       "</table>\n",
       "</div>"
      ]
     },
     "execution_count": 28,
     "metadata": {},
     "output_type": "execute_result"
    }
   ],
   "execution_count": 28
  },
  {
   "metadata": {
    "ExecuteTime": {
     "end_time": "2024-07-23T08:12:23.527596Z",
     "start_time": "2024-07-23T08:12:23.511730Z"
    }
   },
   "cell_type": "code",
   "source": "df[['User ID', 'Total Posts', 'Reputation']].sort_values(by=0, axis=1, ascending=False)",
   "id": "1e2310676a822cd7",
   "outputs": [
    {
     "data": {
      "text/plain": [
       "   Total Posts  Reputation  User ID\n",
       "0        300.0          70        1\n",
       "1        150.0         500        2\n",
       "2        200.0          90        3\n",
       "3         40.0         170        4\n",
       "4          NaN          40        5"
      ],
      "text/html": [
       "<div>\n",
       "<style scoped>\n",
       "    .dataframe tbody tr th:only-of-type {\n",
       "        vertical-align: middle;\n",
       "    }\n",
       "\n",
       "    .dataframe tbody tr th {\n",
       "        vertical-align: top;\n",
       "    }\n",
       "\n",
       "    .dataframe thead th {\n",
       "        text-align: right;\n",
       "    }\n",
       "</style>\n",
       "<table border=\"1\" class=\"dataframe\">\n",
       "  <thead>\n",
       "    <tr style=\"text-align: right;\">\n",
       "      <th></th>\n",
       "      <th>Total Posts</th>\n",
       "      <th>Reputation</th>\n",
       "      <th>User ID</th>\n",
       "    </tr>\n",
       "  </thead>\n",
       "  <tbody>\n",
       "    <tr>\n",
       "      <th>0</th>\n",
       "      <td>300.0</td>\n",
       "      <td>70</td>\n",
       "      <td>1</td>\n",
       "    </tr>\n",
       "    <tr>\n",
       "      <th>1</th>\n",
       "      <td>150.0</td>\n",
       "      <td>500</td>\n",
       "      <td>2</td>\n",
       "    </tr>\n",
       "    <tr>\n",
       "      <th>2</th>\n",
       "      <td>200.0</td>\n",
       "      <td>90</td>\n",
       "      <td>3</td>\n",
       "    </tr>\n",
       "    <tr>\n",
       "      <th>3</th>\n",
       "      <td>40.0</td>\n",
       "      <td>170</td>\n",
       "      <td>4</td>\n",
       "    </tr>\n",
       "    <tr>\n",
       "      <th>4</th>\n",
       "      <td>NaN</td>\n",
       "      <td>40</td>\n",
       "      <td>5</td>\n",
       "    </tr>\n",
       "  </tbody>\n",
       "</table>\n",
       "</div>"
      ]
     },
     "execution_count": 30,
     "metadata": {},
     "output_type": "execute_result"
    }
   ],
   "execution_count": 30
  },
  {
   "metadata": {},
   "cell_type": "code",
   "outputs": [],
   "execution_count": null,
   "source": "",
   "id": "23564fe8acddfadc"
  }
 ],
 "metadata": {
  "kernelspec": {
   "display_name": "Python 3",
   "language": "python",
   "name": "python3"
  },
  "language_info": {
   "codemirror_mode": {
    "name": "ipython",
    "version": 2
   },
   "file_extension": ".py",
   "mimetype": "text/x-python",
   "name": "python",
   "nbconvert_exporter": "python",
   "pygments_lexer": "ipython2",
   "version": "2.7.6"
  }
 },
 "nbformat": 4,
 "nbformat_minor": 5
}

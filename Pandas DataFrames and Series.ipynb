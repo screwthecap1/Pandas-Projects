{
 "cells": [
  {
   "metadata": {
    "ExecuteTime": {
     "end_time": "2024-07-23T07:00:22.374174Z",
     "start_time": "2024-07-23T07:00:21.081180Z"
    }
   },
   "cell_type": "code",
   "source": "import pandas as pd",
   "id": "b05ad54cd45d9dda",
   "outputs": [],
   "execution_count": 1
  },
  {
   "metadata": {},
   "cell_type": "markdown",
   "source": "## Data Frames",
   "id": "908a1308dea96a05"
  },
  {
   "metadata": {
    "ExecuteTime": {
     "end_time": "2024-07-23T07:00:22.437398Z",
     "start_time": "2024-07-23T07:00:22.377570Z"
    }
   },
   "cell_type": "code",
   "source": [
    "forum_users = {\n",
    "    'User ID': [1, 2, 3, 4, 5],\n",
    "    'Username': ['klimsky', 'purt_120', 'fili_q', 'lupurpp', 'destralll'],\n",
    "    'Age': [18, 20, 25, 30, 40],\n",
    "    'Joined Date': pd.to_datetime(['2025-02-03', '2025-03-30', '2025-08-19', '2025-12-06', '2025-10-17']),\n",
    "    'Total Posts': [300, 150, 200, 40, None],\n",
    "    'Reputation': [70, 500, 90, 170, 40],\n",
    "}\n",
    "\n",
    "df = pd.DataFrame(forum_users)\n",
    "df"
   ],
   "id": "e6be1e678e68e92c",
   "outputs": [
    {
     "data": {
      "text/plain": [
       "   User ID   Username  Age Joined Date  Total Posts  Reputation\n",
       "0        1    klimsky   18  2025-02-03        300.0          70\n",
       "1        2   purt_120   20  2025-03-30        150.0         500\n",
       "2        3     fili_q   25  2025-08-19        200.0          90\n",
       "3        4    lupurpp   30  2025-12-06         40.0         170\n",
       "4        5  destralll   40  2025-10-17          NaN          40"
      ],
      "text/html": [
       "<div>\n",
       "<style scoped>\n",
       "    .dataframe tbody tr th:only-of-type {\n",
       "        vertical-align: middle;\n",
       "    }\n",
       "\n",
       "    .dataframe tbody tr th {\n",
       "        vertical-align: top;\n",
       "    }\n",
       "\n",
       "    .dataframe thead th {\n",
       "        text-align: right;\n",
       "    }\n",
       "</style>\n",
       "<table border=\"1\" class=\"dataframe\">\n",
       "  <thead>\n",
       "    <tr style=\"text-align: right;\">\n",
       "      <th></th>\n",
       "      <th>User ID</th>\n",
       "      <th>Username</th>\n",
       "      <th>Age</th>\n",
       "      <th>Joined Date</th>\n",
       "      <th>Total Posts</th>\n",
       "      <th>Reputation</th>\n",
       "    </tr>\n",
       "  </thead>\n",
       "  <tbody>\n",
       "    <tr>\n",
       "      <th>0</th>\n",
       "      <td>1</td>\n",
       "      <td>klimsky</td>\n",
       "      <td>18</td>\n",
       "      <td>2025-02-03</td>\n",
       "      <td>300.0</td>\n",
       "      <td>70</td>\n",
       "    </tr>\n",
       "    <tr>\n",
       "      <th>1</th>\n",
       "      <td>2</td>\n",
       "      <td>purt_120</td>\n",
       "      <td>20</td>\n",
       "      <td>2025-03-30</td>\n",
       "      <td>150.0</td>\n",
       "      <td>500</td>\n",
       "    </tr>\n",
       "    <tr>\n",
       "      <th>2</th>\n",
       "      <td>3</td>\n",
       "      <td>fili_q</td>\n",
       "      <td>25</td>\n",
       "      <td>2025-08-19</td>\n",
       "      <td>200.0</td>\n",
       "      <td>90</td>\n",
       "    </tr>\n",
       "    <tr>\n",
       "      <th>3</th>\n",
       "      <td>4</td>\n",
       "      <td>lupurpp</td>\n",
       "      <td>30</td>\n",
       "      <td>2025-12-06</td>\n",
       "      <td>40.0</td>\n",
       "      <td>170</td>\n",
       "    </tr>\n",
       "    <tr>\n",
       "      <th>4</th>\n",
       "      <td>5</td>\n",
       "      <td>destralll</td>\n",
       "      <td>40</td>\n",
       "      <td>2025-10-17</td>\n",
       "      <td>NaN</td>\n",
       "      <td>40</td>\n",
       "    </tr>\n",
       "  </tbody>\n",
       "</table>\n",
       "</div>"
      ]
     },
     "execution_count": 2,
     "metadata": {},
     "output_type": "execute_result"
    }
   ],
   "execution_count": 2
  },
  {
   "metadata": {
    "ExecuteTime": {
     "end_time": "2024-07-23T07:00:22.459115Z",
     "start_time": "2024-07-23T07:00:22.440241Z"
    }
   },
   "cell_type": "code",
   "source": "df.shape",
   "id": "c9723c485b17d180",
   "outputs": [
    {
     "data": {
      "text/plain": [
       "(5, 6)"
      ]
     },
     "execution_count": 3,
     "metadata": {},
     "output_type": "execute_result"
    }
   ],
   "execution_count": 3
  },
  {
   "metadata": {
    "ExecuteTime": {
     "end_time": "2024-07-23T07:00:22.496701Z",
     "start_time": "2024-07-23T07:00:22.459115Z"
    }
   },
   "cell_type": "code",
   "source": "type(df)",
   "id": "bc46c507db00147c",
   "outputs": [
    {
     "data": {
      "text/plain": [
       "pandas.core.frame.DataFrame"
      ]
     },
     "execution_count": 4,
     "metadata": {},
     "output_type": "execute_result"
    }
   ],
   "execution_count": 4
  },
  {
   "metadata": {
    "ExecuteTime": {
     "end_time": "2024-07-23T07:00:22.537154Z",
     "start_time": "2024-07-23T07:00:22.500218Z"
    }
   },
   "cell_type": "code",
   "source": "df.columns",
   "id": "221ad4e21f814446",
   "outputs": [
    {
     "data": {
      "text/plain": [
       "Index(['User ID', 'Username', 'Age', 'Joined Date', 'Total Posts',\n",
       "       'Reputation'],\n",
       "      dtype='object')"
      ]
     },
     "execution_count": 5,
     "metadata": {},
     "output_type": "execute_result"
    }
   ],
   "execution_count": 5
  },
  {
   "metadata": {
    "ExecuteTime": {
     "end_time": "2024-07-23T07:00:22.555723Z",
     "start_time": "2024-07-23T07:00:22.539729Z"
    }
   },
   "cell_type": "code",
   "source": "df.columns.tolist()",
   "id": "aeacc6aaf134b251",
   "outputs": [
    {
     "data": {
      "text/plain": [
       "['User ID', 'Username', 'Age', 'Joined Date', 'Total Posts', 'Reputation']"
      ]
     },
     "execution_count": 6,
     "metadata": {},
     "output_type": "execute_result"
    }
   ],
   "execution_count": 6
  },
  {
   "metadata": {
    "ExecuteTime": {
     "end_time": "2024-07-23T07:00:22.570492Z",
     "start_time": "2024-07-23T07:00:22.555723Z"
    }
   },
   "cell_type": "code",
   "source": "df.index",
   "id": "49af82baa01ecc73",
   "outputs": [
    {
     "data": {
      "text/plain": [
       "RangeIndex(start=0, stop=5, step=1)"
      ]
     },
     "execution_count": 7,
     "metadata": {},
     "output_type": "execute_result"
    }
   ],
   "execution_count": 7
  },
  {
   "metadata": {
    "ExecuteTime": {
     "end_time": "2024-07-23T07:00:22.583228Z",
     "start_time": "2024-07-23T07:00:22.570492Z"
    }
   },
   "cell_type": "code",
   "source": "df.index.tolist()",
   "id": "60cbb47e6210335d",
   "outputs": [
    {
     "data": {
      "text/plain": [
       "[0, 1, 2, 3, 4]"
      ]
     },
     "execution_count": 8,
     "metadata": {},
     "output_type": "execute_result"
    }
   ],
   "execution_count": 8
  },
  {
   "metadata": {
    "ExecuteTime": {
     "end_time": "2024-07-23T07:00:22.599591Z",
     "start_time": "2024-07-23T07:00:22.583228Z"
    }
   },
   "cell_type": "code",
   "source": "df.dtypes",
   "id": "9ef1bd7fcbe1e21d",
   "outputs": [
    {
     "data": {
      "text/plain": [
       "User ID                 int64\n",
       "Username               object\n",
       "Age                     int64\n",
       "Joined Date    datetime64[ns]\n",
       "Total Posts           float64\n",
       "Reputation              int64\n",
       "dtype: object"
      ]
     },
     "execution_count": 9,
     "metadata": {},
     "output_type": "execute_result"
    }
   ],
   "execution_count": 9
  },
  {
   "metadata": {
    "ExecuteTime": {
     "end_time": "2024-07-23T07:00:22.615994Z",
     "start_time": "2024-07-23T07:00:22.599591Z"
    }
   },
   "cell_type": "code",
   "source": "df.values",
   "id": "92e99bdcbb9fcea7",
   "outputs": [
    {
     "data": {
      "text/plain": [
       "array([[1, 'klimsky', 18, Timestamp('2025-02-03 00:00:00'), 300.0, 70],\n",
       "       [2, 'purt_120', 20, Timestamp('2025-03-30 00:00:00'), 150.0, 500],\n",
       "       [3, 'fili_q', 25, Timestamp('2025-08-19 00:00:00'), 200.0, 90],\n",
       "       [4, 'lupurpp', 30, Timestamp('2025-12-06 00:00:00'), 40.0, 170],\n",
       "       [5, 'destralll', 40, Timestamp('2025-10-17 00:00:00'), nan, 40]],\n",
       "      dtype=object)"
      ]
     },
     "execution_count": 10,
     "metadata": {},
     "output_type": "execute_result"
    }
   ],
   "execution_count": 10
  },
  {
   "metadata": {
    "ExecuteTime": {
     "end_time": "2024-07-23T07:00:22.626989Z",
     "start_time": "2024-07-23T07:00:22.615994Z"
    }
   },
   "cell_type": "code",
   "source": "type(df.values)",
   "id": "9671e9ac3392ad97",
   "outputs": [
    {
     "data": {
      "text/plain": [
       "numpy.ndarray"
      ]
     },
     "execution_count": 11,
     "metadata": {},
     "output_type": "execute_result"
    }
   ],
   "execution_count": 11
  },
  {
   "metadata": {
    "ExecuteTime": {
     "end_time": "2024-07-23T07:00:22.638800Z",
     "start_time": "2024-07-23T07:00:22.626989Z"
    }
   },
   "cell_type": "code",
   "source": "df.values[2, 2]",
   "id": "19aae07d921acc",
   "outputs": [
    {
     "data": {
      "text/plain": [
       "25"
      ]
     },
     "execution_count": 12,
     "metadata": {},
     "output_type": "execute_result"
    }
   ],
   "execution_count": 12
  },
  {
   "metadata": {
    "ExecuteTime": {
     "end_time": "2024-07-23T07:00:22.654985Z",
     "start_time": "2024-07-23T07:00:22.638800Z"
    }
   },
   "cell_type": "code",
   "source": "df.head()",
   "id": "5b5b38b08d6179a0",
   "outputs": [
    {
     "data": {
      "text/plain": [
       "   User ID   Username  Age Joined Date  Total Posts  Reputation\n",
       "0        1    klimsky   18  2025-02-03        300.0          70\n",
       "1        2   purt_120   20  2025-03-30        150.0         500\n",
       "2        3     fili_q   25  2025-08-19        200.0          90\n",
       "3        4    lupurpp   30  2025-12-06         40.0         170\n",
       "4        5  destralll   40  2025-10-17          NaN          40"
      ],
      "text/html": [
       "<div>\n",
       "<style scoped>\n",
       "    .dataframe tbody tr th:only-of-type {\n",
       "        vertical-align: middle;\n",
       "    }\n",
       "\n",
       "    .dataframe tbody tr th {\n",
       "        vertical-align: top;\n",
       "    }\n",
       "\n",
       "    .dataframe thead th {\n",
       "        text-align: right;\n",
       "    }\n",
       "</style>\n",
       "<table border=\"1\" class=\"dataframe\">\n",
       "  <thead>\n",
       "    <tr style=\"text-align: right;\">\n",
       "      <th></th>\n",
       "      <th>User ID</th>\n",
       "      <th>Username</th>\n",
       "      <th>Age</th>\n",
       "      <th>Joined Date</th>\n",
       "      <th>Total Posts</th>\n",
       "      <th>Reputation</th>\n",
       "    </tr>\n",
       "  </thead>\n",
       "  <tbody>\n",
       "    <tr>\n",
       "      <th>0</th>\n",
       "      <td>1</td>\n",
       "      <td>klimsky</td>\n",
       "      <td>18</td>\n",
       "      <td>2025-02-03</td>\n",
       "      <td>300.0</td>\n",
       "      <td>70</td>\n",
       "    </tr>\n",
       "    <tr>\n",
       "      <th>1</th>\n",
       "      <td>2</td>\n",
       "      <td>purt_120</td>\n",
       "      <td>20</td>\n",
       "      <td>2025-03-30</td>\n",
       "      <td>150.0</td>\n",
       "      <td>500</td>\n",
       "    </tr>\n",
       "    <tr>\n",
       "      <th>2</th>\n",
       "      <td>3</td>\n",
       "      <td>fili_q</td>\n",
       "      <td>25</td>\n",
       "      <td>2025-08-19</td>\n",
       "      <td>200.0</td>\n",
       "      <td>90</td>\n",
       "    </tr>\n",
       "    <tr>\n",
       "      <th>3</th>\n",
       "      <td>4</td>\n",
       "      <td>lupurpp</td>\n",
       "      <td>30</td>\n",
       "      <td>2025-12-06</td>\n",
       "      <td>40.0</td>\n",
       "      <td>170</td>\n",
       "    </tr>\n",
       "    <tr>\n",
       "      <th>4</th>\n",
       "      <td>5</td>\n",
       "      <td>destralll</td>\n",
       "      <td>40</td>\n",
       "      <td>2025-10-17</td>\n",
       "      <td>NaN</td>\n",
       "      <td>40</td>\n",
       "    </tr>\n",
       "  </tbody>\n",
       "</table>\n",
       "</div>"
      ]
     },
     "execution_count": 13,
     "metadata": {},
     "output_type": "execute_result"
    }
   ],
   "execution_count": 13
  },
  {
   "metadata": {
    "ExecuteTime": {
     "end_time": "2024-07-23T07:00:22.677225Z",
     "start_time": "2024-07-23T07:00:22.657997Z"
    }
   },
   "cell_type": "code",
   "source": "df.head(2)",
   "id": "1fecd2f9ac8e7d63",
   "outputs": [
    {
     "data": {
      "text/plain": [
       "   User ID  Username  Age Joined Date  Total Posts  Reputation\n",
       "0        1   klimsky   18  2025-02-03        300.0          70\n",
       "1        2  purt_120   20  2025-03-30        150.0         500"
      ],
      "text/html": [
       "<div>\n",
       "<style scoped>\n",
       "    .dataframe tbody tr th:only-of-type {\n",
       "        vertical-align: middle;\n",
       "    }\n",
       "\n",
       "    .dataframe tbody tr th {\n",
       "        vertical-align: top;\n",
       "    }\n",
       "\n",
       "    .dataframe thead th {\n",
       "        text-align: right;\n",
       "    }\n",
       "</style>\n",
       "<table border=\"1\" class=\"dataframe\">\n",
       "  <thead>\n",
       "    <tr style=\"text-align: right;\">\n",
       "      <th></th>\n",
       "      <th>User ID</th>\n",
       "      <th>Username</th>\n",
       "      <th>Age</th>\n",
       "      <th>Joined Date</th>\n",
       "      <th>Total Posts</th>\n",
       "      <th>Reputation</th>\n",
       "    </tr>\n",
       "  </thead>\n",
       "  <tbody>\n",
       "    <tr>\n",
       "      <th>0</th>\n",
       "      <td>1</td>\n",
       "      <td>klimsky</td>\n",
       "      <td>18</td>\n",
       "      <td>2025-02-03</td>\n",
       "      <td>300.0</td>\n",
       "      <td>70</td>\n",
       "    </tr>\n",
       "    <tr>\n",
       "      <th>1</th>\n",
       "      <td>2</td>\n",
       "      <td>purt_120</td>\n",
       "      <td>20</td>\n",
       "      <td>2025-03-30</td>\n",
       "      <td>150.0</td>\n",
       "      <td>500</td>\n",
       "    </tr>\n",
       "  </tbody>\n",
       "</table>\n",
       "</div>"
      ]
     },
     "execution_count": 14,
     "metadata": {},
     "output_type": "execute_result"
    }
   ],
   "execution_count": 14
  },
  {
   "metadata": {
    "ExecuteTime": {
     "end_time": "2024-07-23T07:00:22.721412Z",
     "start_time": "2024-07-23T07:00:22.680243Z"
    }
   },
   "cell_type": "code",
   "source": "df.describe()",
   "id": "7a64969f376743c6",
   "outputs": [
    {
     "data": {
      "text/plain": [
       "        User ID        Age          Joined Date  Total Posts  Reputation\n",
       "count  5.000000   5.000000                    5     4.000000    5.000000\n",
       "mean   3.000000  26.600000  2025-07-15 19:12:00   172.500000  174.000000\n",
       "min    1.000000  18.000000  2025-02-03 00:00:00    40.000000   40.000000\n",
       "25%    2.000000  20.000000  2025-03-30 00:00:00   122.500000   70.000000\n",
       "50%    3.000000  25.000000  2025-08-19 00:00:00   175.000000   90.000000\n",
       "75%    4.000000  30.000000  2025-10-17 00:00:00   225.000000  170.000000\n",
       "max    5.000000  40.000000  2025-12-06 00:00:00   300.000000  500.000000\n",
       "std    1.581139   8.820431                  NaN   108.128011  188.494032"
      ],
      "text/html": [
       "<div>\n",
       "<style scoped>\n",
       "    .dataframe tbody tr th:only-of-type {\n",
       "        vertical-align: middle;\n",
       "    }\n",
       "\n",
       "    .dataframe tbody tr th {\n",
       "        vertical-align: top;\n",
       "    }\n",
       "\n",
       "    .dataframe thead th {\n",
       "        text-align: right;\n",
       "    }\n",
       "</style>\n",
       "<table border=\"1\" class=\"dataframe\">\n",
       "  <thead>\n",
       "    <tr style=\"text-align: right;\">\n",
       "      <th></th>\n",
       "      <th>User ID</th>\n",
       "      <th>Age</th>\n",
       "      <th>Joined Date</th>\n",
       "      <th>Total Posts</th>\n",
       "      <th>Reputation</th>\n",
       "    </tr>\n",
       "  </thead>\n",
       "  <tbody>\n",
       "    <tr>\n",
       "      <th>count</th>\n",
       "      <td>5.000000</td>\n",
       "      <td>5.000000</td>\n",
       "      <td>5</td>\n",
       "      <td>4.000000</td>\n",
       "      <td>5.000000</td>\n",
       "    </tr>\n",
       "    <tr>\n",
       "      <th>mean</th>\n",
       "      <td>3.000000</td>\n",
       "      <td>26.600000</td>\n",
       "      <td>2025-07-15 19:12:00</td>\n",
       "      <td>172.500000</td>\n",
       "      <td>174.000000</td>\n",
       "    </tr>\n",
       "    <tr>\n",
       "      <th>min</th>\n",
       "      <td>1.000000</td>\n",
       "      <td>18.000000</td>\n",
       "      <td>2025-02-03 00:00:00</td>\n",
       "      <td>40.000000</td>\n",
       "      <td>40.000000</td>\n",
       "    </tr>\n",
       "    <tr>\n",
       "      <th>25%</th>\n",
       "      <td>2.000000</td>\n",
       "      <td>20.000000</td>\n",
       "      <td>2025-03-30 00:00:00</td>\n",
       "      <td>122.500000</td>\n",
       "      <td>70.000000</td>\n",
       "    </tr>\n",
       "    <tr>\n",
       "      <th>50%</th>\n",
       "      <td>3.000000</td>\n",
       "      <td>25.000000</td>\n",
       "      <td>2025-08-19 00:00:00</td>\n",
       "      <td>175.000000</td>\n",
       "      <td>90.000000</td>\n",
       "    </tr>\n",
       "    <tr>\n",
       "      <th>75%</th>\n",
       "      <td>4.000000</td>\n",
       "      <td>30.000000</td>\n",
       "      <td>2025-10-17 00:00:00</td>\n",
       "      <td>225.000000</td>\n",
       "      <td>170.000000</td>\n",
       "    </tr>\n",
       "    <tr>\n",
       "      <th>max</th>\n",
       "      <td>5.000000</td>\n",
       "      <td>40.000000</td>\n",
       "      <td>2025-12-06 00:00:00</td>\n",
       "      <td>300.000000</td>\n",
       "      <td>500.000000</td>\n",
       "    </tr>\n",
       "    <tr>\n",
       "      <th>std</th>\n",
       "      <td>1.581139</td>\n",
       "      <td>8.820431</td>\n",
       "      <td>NaN</td>\n",
       "      <td>108.128011</td>\n",
       "      <td>188.494032</td>\n",
       "    </tr>\n",
       "  </tbody>\n",
       "</table>\n",
       "</div>"
      ]
     },
     "execution_count": 15,
     "metadata": {},
     "output_type": "execute_result"
    }
   ],
   "execution_count": 15
  },
  {
   "metadata": {
    "ExecuteTime": {
     "end_time": "2024-07-23T07:00:22.765919Z",
     "start_time": "2024-07-23T07:00:22.722896Z"
    }
   },
   "cell_type": "code",
   "source": "df.describe(include='all')",
   "id": "bac8af6ba29fb2c5",
   "outputs": [
    {
     "data": {
      "text/plain": [
       "         User ID Username        Age          Joined Date  Total Posts  \\\n",
       "count   5.000000        5   5.000000                    5     4.000000   \n",
       "unique       NaN        5        NaN                  NaN          NaN   \n",
       "top          NaN  klimsky        NaN                  NaN          NaN   \n",
       "freq         NaN        1        NaN                  NaN          NaN   \n",
       "mean    3.000000      NaN  26.600000  2025-07-15 19:12:00   172.500000   \n",
       "min     1.000000      NaN  18.000000  2025-02-03 00:00:00    40.000000   \n",
       "25%     2.000000      NaN  20.000000  2025-03-30 00:00:00   122.500000   \n",
       "50%     3.000000      NaN  25.000000  2025-08-19 00:00:00   175.000000   \n",
       "75%     4.000000      NaN  30.000000  2025-10-17 00:00:00   225.000000   \n",
       "max     5.000000      NaN  40.000000  2025-12-06 00:00:00   300.000000   \n",
       "std     1.581139      NaN   8.820431                  NaN   108.128011   \n",
       "\n",
       "        Reputation  \n",
       "count     5.000000  \n",
       "unique         NaN  \n",
       "top            NaN  \n",
       "freq           NaN  \n",
       "mean    174.000000  \n",
       "min      40.000000  \n",
       "25%      70.000000  \n",
       "50%      90.000000  \n",
       "75%     170.000000  \n",
       "max     500.000000  \n",
       "std     188.494032  "
      ],
      "text/html": [
       "<div>\n",
       "<style scoped>\n",
       "    .dataframe tbody tr th:only-of-type {\n",
       "        vertical-align: middle;\n",
       "    }\n",
       "\n",
       "    .dataframe tbody tr th {\n",
       "        vertical-align: top;\n",
       "    }\n",
       "\n",
       "    .dataframe thead th {\n",
       "        text-align: right;\n",
       "    }\n",
       "</style>\n",
       "<table border=\"1\" class=\"dataframe\">\n",
       "  <thead>\n",
       "    <tr style=\"text-align: right;\">\n",
       "      <th></th>\n",
       "      <th>User ID</th>\n",
       "      <th>Username</th>\n",
       "      <th>Age</th>\n",
       "      <th>Joined Date</th>\n",
       "      <th>Total Posts</th>\n",
       "      <th>Reputation</th>\n",
       "    </tr>\n",
       "  </thead>\n",
       "  <tbody>\n",
       "    <tr>\n",
       "      <th>count</th>\n",
       "      <td>5.000000</td>\n",
       "      <td>5</td>\n",
       "      <td>5.000000</td>\n",
       "      <td>5</td>\n",
       "      <td>4.000000</td>\n",
       "      <td>5.000000</td>\n",
       "    </tr>\n",
       "    <tr>\n",
       "      <th>unique</th>\n",
       "      <td>NaN</td>\n",
       "      <td>5</td>\n",
       "      <td>NaN</td>\n",
       "      <td>NaN</td>\n",
       "      <td>NaN</td>\n",
       "      <td>NaN</td>\n",
       "    </tr>\n",
       "    <tr>\n",
       "      <th>top</th>\n",
       "      <td>NaN</td>\n",
       "      <td>klimsky</td>\n",
       "      <td>NaN</td>\n",
       "      <td>NaN</td>\n",
       "      <td>NaN</td>\n",
       "      <td>NaN</td>\n",
       "    </tr>\n",
       "    <tr>\n",
       "      <th>freq</th>\n",
       "      <td>NaN</td>\n",
       "      <td>1</td>\n",
       "      <td>NaN</td>\n",
       "      <td>NaN</td>\n",
       "      <td>NaN</td>\n",
       "      <td>NaN</td>\n",
       "    </tr>\n",
       "    <tr>\n",
       "      <th>mean</th>\n",
       "      <td>3.000000</td>\n",
       "      <td>NaN</td>\n",
       "      <td>26.600000</td>\n",
       "      <td>2025-07-15 19:12:00</td>\n",
       "      <td>172.500000</td>\n",
       "      <td>174.000000</td>\n",
       "    </tr>\n",
       "    <tr>\n",
       "      <th>min</th>\n",
       "      <td>1.000000</td>\n",
       "      <td>NaN</td>\n",
       "      <td>18.000000</td>\n",
       "      <td>2025-02-03 00:00:00</td>\n",
       "      <td>40.000000</td>\n",
       "      <td>40.000000</td>\n",
       "    </tr>\n",
       "    <tr>\n",
       "      <th>25%</th>\n",
       "      <td>2.000000</td>\n",
       "      <td>NaN</td>\n",
       "      <td>20.000000</td>\n",
       "      <td>2025-03-30 00:00:00</td>\n",
       "      <td>122.500000</td>\n",
       "      <td>70.000000</td>\n",
       "    </tr>\n",
       "    <tr>\n",
       "      <th>50%</th>\n",
       "      <td>3.000000</td>\n",
       "      <td>NaN</td>\n",
       "      <td>25.000000</td>\n",
       "      <td>2025-08-19 00:00:00</td>\n",
       "      <td>175.000000</td>\n",
       "      <td>90.000000</td>\n",
       "    </tr>\n",
       "    <tr>\n",
       "      <th>75%</th>\n",
       "      <td>4.000000</td>\n",
       "      <td>NaN</td>\n",
       "      <td>30.000000</td>\n",
       "      <td>2025-10-17 00:00:00</td>\n",
       "      <td>225.000000</td>\n",
       "      <td>170.000000</td>\n",
       "    </tr>\n",
       "    <tr>\n",
       "      <th>max</th>\n",
       "      <td>5.000000</td>\n",
       "      <td>NaN</td>\n",
       "      <td>40.000000</td>\n",
       "      <td>2025-12-06 00:00:00</td>\n",
       "      <td>300.000000</td>\n",
       "      <td>500.000000</td>\n",
       "    </tr>\n",
       "    <tr>\n",
       "      <th>std</th>\n",
       "      <td>1.581139</td>\n",
       "      <td>NaN</td>\n",
       "      <td>8.820431</td>\n",
       "      <td>NaN</td>\n",
       "      <td>108.128011</td>\n",
       "      <td>188.494032</td>\n",
       "    </tr>\n",
       "  </tbody>\n",
       "</table>\n",
       "</div>"
      ]
     },
     "execution_count": 16,
     "metadata": {},
     "output_type": "execute_result"
    }
   ],
   "execution_count": 16
  },
  {
   "metadata": {
    "ExecuteTime": {
     "end_time": "2024-07-23T07:00:22.779375Z",
     "start_time": "2024-07-23T07:00:22.767397Z"
    }
   },
   "cell_type": "code",
   "source": "df.select_dtypes(include='object')",
   "id": "f241aac124f0c688",
   "outputs": [
    {
     "data": {
      "text/plain": [
       "    Username\n",
       "0    klimsky\n",
       "1   purt_120\n",
       "2     fili_q\n",
       "3    lupurpp\n",
       "4  destralll"
      ],
      "text/html": [
       "<div>\n",
       "<style scoped>\n",
       "    .dataframe tbody tr th:only-of-type {\n",
       "        vertical-align: middle;\n",
       "    }\n",
       "\n",
       "    .dataframe tbody tr th {\n",
       "        vertical-align: top;\n",
       "    }\n",
       "\n",
       "    .dataframe thead th {\n",
       "        text-align: right;\n",
       "    }\n",
       "</style>\n",
       "<table border=\"1\" class=\"dataframe\">\n",
       "  <thead>\n",
       "    <tr style=\"text-align: right;\">\n",
       "      <th></th>\n",
       "      <th>Username</th>\n",
       "    </tr>\n",
       "  </thead>\n",
       "  <tbody>\n",
       "    <tr>\n",
       "      <th>0</th>\n",
       "      <td>klimsky</td>\n",
       "    </tr>\n",
       "    <tr>\n",
       "      <th>1</th>\n",
       "      <td>purt_120</td>\n",
       "    </tr>\n",
       "    <tr>\n",
       "      <th>2</th>\n",
       "      <td>fili_q</td>\n",
       "    </tr>\n",
       "    <tr>\n",
       "      <th>3</th>\n",
       "      <td>lupurpp</td>\n",
       "    </tr>\n",
       "    <tr>\n",
       "      <th>4</th>\n",
       "      <td>destralll</td>\n",
       "    </tr>\n",
       "  </tbody>\n",
       "</table>\n",
       "</div>"
      ]
     },
     "execution_count": 17,
     "metadata": {},
     "output_type": "execute_result"
    }
   ],
   "execution_count": 17
  },
  {
   "metadata": {
    "ExecuteTime": {
     "end_time": "2024-07-23T07:00:22.792701Z",
     "start_time": "2024-07-23T07:00:22.782216Z"
    }
   },
   "cell_type": "code",
   "source": "df.select_dtypes(include='object').columns",
   "id": "b6f1297acb100b20",
   "outputs": [
    {
     "data": {
      "text/plain": [
       "Index(['Username'], dtype='object')"
      ]
     },
     "execution_count": 18,
     "metadata": {},
     "output_type": "execute_result"
    }
   ],
   "execution_count": 18
  },
  {
   "metadata": {
    "ExecuteTime": {
     "end_time": "2024-07-23T07:00:22.811001Z",
     "start_time": "2024-07-23T07:00:22.792701Z"
    }
   },
   "cell_type": "code",
   "source": "df.isna()",
   "id": "961e733a4d112df3",
   "outputs": [
    {
     "data": {
      "text/plain": [
       "   User ID  Username    Age  Joined Date  Total Posts  Reputation\n",
       "0    False     False  False        False        False       False\n",
       "1    False     False  False        False        False       False\n",
       "2    False     False  False        False        False       False\n",
       "3    False     False  False        False        False       False\n",
       "4    False     False  False        False         True       False"
      ],
      "text/html": [
       "<div>\n",
       "<style scoped>\n",
       "    .dataframe tbody tr th:only-of-type {\n",
       "        vertical-align: middle;\n",
       "    }\n",
       "\n",
       "    .dataframe tbody tr th {\n",
       "        vertical-align: top;\n",
       "    }\n",
       "\n",
       "    .dataframe thead th {\n",
       "        text-align: right;\n",
       "    }\n",
       "</style>\n",
       "<table border=\"1\" class=\"dataframe\">\n",
       "  <thead>\n",
       "    <tr style=\"text-align: right;\">\n",
       "      <th></th>\n",
       "      <th>User ID</th>\n",
       "      <th>Username</th>\n",
       "      <th>Age</th>\n",
       "      <th>Joined Date</th>\n",
       "      <th>Total Posts</th>\n",
       "      <th>Reputation</th>\n",
       "    </tr>\n",
       "  </thead>\n",
       "  <tbody>\n",
       "    <tr>\n",
       "      <th>0</th>\n",
       "      <td>False</td>\n",
       "      <td>False</td>\n",
       "      <td>False</td>\n",
       "      <td>False</td>\n",
       "      <td>False</td>\n",
       "      <td>False</td>\n",
       "    </tr>\n",
       "    <tr>\n",
       "      <th>1</th>\n",
       "      <td>False</td>\n",
       "      <td>False</td>\n",
       "      <td>False</td>\n",
       "      <td>False</td>\n",
       "      <td>False</td>\n",
       "      <td>False</td>\n",
       "    </tr>\n",
       "    <tr>\n",
       "      <th>2</th>\n",
       "      <td>False</td>\n",
       "      <td>False</td>\n",
       "      <td>False</td>\n",
       "      <td>False</td>\n",
       "      <td>False</td>\n",
       "      <td>False</td>\n",
       "    </tr>\n",
       "    <tr>\n",
       "      <th>3</th>\n",
       "      <td>False</td>\n",
       "      <td>False</td>\n",
       "      <td>False</td>\n",
       "      <td>False</td>\n",
       "      <td>False</td>\n",
       "      <td>False</td>\n",
       "    </tr>\n",
       "    <tr>\n",
       "      <th>4</th>\n",
       "      <td>False</td>\n",
       "      <td>False</td>\n",
       "      <td>False</td>\n",
       "      <td>False</td>\n",
       "      <td>True</td>\n",
       "      <td>False</td>\n",
       "    </tr>\n",
       "  </tbody>\n",
       "</table>\n",
       "</div>"
      ]
     },
     "execution_count": 19,
     "metadata": {},
     "output_type": "execute_result"
    }
   ],
   "execution_count": 19
  },
  {
   "metadata": {
    "ExecuteTime": {
     "end_time": "2024-07-23T07:00:22.825556Z",
     "start_time": "2024-07-23T07:00:22.811001Z"
    }
   },
   "cell_type": "code",
   "source": "df.isna().sum()",
   "id": "19c72d9960afdc2a",
   "outputs": [
    {
     "data": {
      "text/plain": [
       "User ID        0\n",
       "Username       0\n",
       "Age            0\n",
       "Joined Date    0\n",
       "Total Posts    1\n",
       "Reputation     0\n",
       "dtype: int64"
      ]
     },
     "execution_count": 20,
     "metadata": {},
     "output_type": "execute_result"
    }
   ],
   "execution_count": 20
  },
  {
   "metadata": {
    "ExecuteTime": {
     "end_time": "2024-07-23T07:00:22.844046Z",
     "start_time": "2024-07-23T07:00:22.825556Z"
    }
   },
   "cell_type": "code",
   "source": "df.select_dtypes(exclude=['object', 'int64'])",
   "id": "28d61e6c406d76d8",
   "outputs": [
    {
     "data": {
      "text/plain": [
       "  Joined Date  Total Posts\n",
       "0  2025-02-03        300.0\n",
       "1  2025-03-30        150.0\n",
       "2  2025-08-19        200.0\n",
       "3  2025-12-06         40.0\n",
       "4  2025-10-17          NaN"
      ],
      "text/html": [
       "<div>\n",
       "<style scoped>\n",
       "    .dataframe tbody tr th:only-of-type {\n",
       "        vertical-align: middle;\n",
       "    }\n",
       "\n",
       "    .dataframe tbody tr th {\n",
       "        vertical-align: top;\n",
       "    }\n",
       "\n",
       "    .dataframe thead th {\n",
       "        text-align: right;\n",
       "    }\n",
       "</style>\n",
       "<table border=\"1\" class=\"dataframe\">\n",
       "  <thead>\n",
       "    <tr style=\"text-align: right;\">\n",
       "      <th></th>\n",
       "      <th>Joined Date</th>\n",
       "      <th>Total Posts</th>\n",
       "    </tr>\n",
       "  </thead>\n",
       "  <tbody>\n",
       "    <tr>\n",
       "      <th>0</th>\n",
       "      <td>2025-02-03</td>\n",
       "      <td>300.0</td>\n",
       "    </tr>\n",
       "    <tr>\n",
       "      <th>1</th>\n",
       "      <td>2025-03-30</td>\n",
       "      <td>150.0</td>\n",
       "    </tr>\n",
       "    <tr>\n",
       "      <th>2</th>\n",
       "      <td>2025-08-19</td>\n",
       "      <td>200.0</td>\n",
       "    </tr>\n",
       "    <tr>\n",
       "      <th>3</th>\n",
       "      <td>2025-12-06</td>\n",
       "      <td>40.0</td>\n",
       "    </tr>\n",
       "    <tr>\n",
       "      <th>4</th>\n",
       "      <td>2025-10-17</td>\n",
       "      <td>NaN</td>\n",
       "    </tr>\n",
       "  </tbody>\n",
       "</table>\n",
       "</div>"
      ]
     },
     "execution_count": 21,
     "metadata": {},
     "output_type": "execute_result"
    }
   ],
   "execution_count": 21
  },
  {
   "metadata": {},
   "cell_type": "markdown",
   "source": "## Series",
   "id": "9240186a7a4673fa"
  },
  {
   "metadata": {
    "ExecuteTime": {
     "end_time": "2024-07-23T07:00:22.856886Z",
     "start_time": "2024-07-23T07:00:22.844046Z"
    }
   },
   "cell_type": "code",
   "source": [
    "username_series = df['Username']\n",
    "username_series"
   ],
   "id": "17163a4f95658a5b",
   "outputs": [
    {
     "data": {
      "text/plain": [
       "0      klimsky\n",
       "1     purt_120\n",
       "2       fili_q\n",
       "3      lupurpp\n",
       "4    destralll\n",
       "Name: Username, dtype: object"
      ]
     },
     "execution_count": 22,
     "metadata": {},
     "output_type": "execute_result"
    }
   ],
   "execution_count": 22
  },
  {
   "metadata": {
    "ExecuteTime": {
     "end_time": "2024-07-23T07:00:22.867213Z",
     "start_time": "2024-07-23T07:00:22.856886Z"
    }
   },
   "cell_type": "code",
   "source": "type(df['Username'])",
   "id": "26752db74f04693a",
   "outputs": [
    {
     "data": {
      "text/plain": [
       "pandas.core.series.Series"
      ]
     },
     "execution_count": 23,
     "metadata": {},
     "output_type": "execute_result"
    }
   ],
   "execution_count": 23
  },
  {
   "metadata": {
    "ExecuteTime": {
     "end_time": "2024-07-23T07:00:22.878969Z",
     "start_time": "2024-07-23T07:00:22.870228Z"
    }
   },
   "cell_type": "code",
   "source": "username_series.values",
   "id": "7aed955b8116fee9",
   "outputs": [
    {
     "data": {
      "text/plain": [
       "array(['klimsky', 'purt_120', 'fili_q', 'lupurpp', 'destralll'],\n",
       "      dtype=object)"
      ]
     },
     "execution_count": 24,
     "metadata": {},
     "output_type": "execute_result"
    }
   ],
   "execution_count": 24
  },
  {
   "metadata": {
    "ExecuteTime": {
     "end_time": "2024-07-23T07:00:22.889587Z",
     "start_time": "2024-07-23T07:00:22.878969Z"
    }
   },
   "cell_type": "code",
   "source": "type(username_series.values)",
   "id": "862cac98d0767171",
   "outputs": [
    {
     "data": {
      "text/plain": [
       "numpy.ndarray"
      ]
     },
     "execution_count": 25,
     "metadata": {},
     "output_type": "execute_result"
    }
   ],
   "execution_count": 25
  },
  {
   "metadata": {
    "ExecuteTime": {
     "end_time": "2024-07-23T07:00:22.899966Z",
     "start_time": "2024-07-23T07:00:22.889587Z"
    }
   },
   "cell_type": "code",
   "source": "username_series.index",
   "id": "9bf0dd5c5a643521",
   "outputs": [
    {
     "data": {
      "text/plain": [
       "RangeIndex(start=0, stop=5, step=1)"
      ]
     },
     "execution_count": 26,
     "metadata": {},
     "output_type": "execute_result"
    }
   ],
   "execution_count": 26
  },
  {
   "metadata": {
    "ExecuteTime": {
     "end_time": "2024-07-23T07:00:22.911845Z",
     "start_time": "2024-07-23T07:00:22.901978Z"
    }
   },
   "cell_type": "code",
   "source": "df['Username'].value_counts()",
   "id": "b71786f3a9d83007",
   "outputs": [
    {
     "data": {
      "text/plain": [
       "Username\n",
       "klimsky      1\n",
       "purt_120     1\n",
       "fili_q       1\n",
       "lupurpp      1\n",
       "destralll    1\n",
       "Name: count, dtype: int64"
      ]
     },
     "execution_count": 27,
     "metadata": {},
     "output_type": "execute_result"
    }
   ],
   "execution_count": 27
  },
  {
   "metadata": {
    "ExecuteTime": {
     "end_time": "2024-07-23T07:00:22.925370Z",
     "start_time": "2024-07-23T07:00:22.911845Z"
    }
   },
   "cell_type": "code",
   "source": "df['Reputation'].value_counts()",
   "id": "ed0ddcd0eabe812d",
   "outputs": [
    {
     "data": {
      "text/plain": [
       "Reputation\n",
       "70     1\n",
       "500    1\n",
       "90     1\n",
       "170    1\n",
       "40     1\n",
       "Name: count, dtype: int64"
      ]
     },
     "execution_count": 28,
     "metadata": {},
     "output_type": "execute_result"
    }
   ],
   "execution_count": 28
  },
  {
   "metadata": {
    "ExecuteTime": {
     "end_time": "2024-07-23T07:00:22.937360Z",
     "start_time": "2024-07-23T07:00:22.925370Z"
    }
   },
   "cell_type": "code",
   "source": "df['Joined Date'].unique()",
   "id": "7ca77034a07c6e82",
   "outputs": [
    {
     "data": {
      "text/plain": [
       "<DatetimeArray>\n",
       "['2025-02-03 00:00:00', '2025-03-30 00:00:00', '2025-08-19 00:00:00',\n",
       " '2025-12-06 00:00:00', '2025-10-17 00:00:00']\n",
       "Length: 5, dtype: datetime64[ns]"
      ]
     },
     "execution_count": 29,
     "metadata": {},
     "output_type": "execute_result"
    }
   ],
   "execution_count": 29
  },
  {
   "metadata": {
    "ExecuteTime": {
     "end_time": "2024-07-23T07:00:22.947965Z",
     "start_time": "2024-07-23T07:00:22.937360Z"
    }
   },
   "cell_type": "code",
   "source": "df['Username'].sort_values()",
   "id": "e118bde11ad9404a",
   "outputs": [
    {
     "data": {
      "text/plain": [
       "4    destralll\n",
       "2       fili_q\n",
       "0      klimsky\n",
       "3      lupurpp\n",
       "1     purt_120\n",
       "Name: Username, dtype: object"
      ]
     },
     "execution_count": 30,
     "metadata": {},
     "output_type": "execute_result"
    }
   ],
   "execution_count": 30
  },
  {
   "metadata": {
    "ExecuteTime": {
     "end_time": "2024-07-23T07:00:22.959008Z",
     "start_time": "2024-07-23T07:00:22.949483Z"
    }
   },
   "cell_type": "code",
   "source": "df['Username'].sort_values(ascending=False)",
   "id": "413894e04d9d9b50",
   "outputs": [
    {
     "data": {
      "text/plain": [
       "1     purt_120\n",
       "3      lupurpp\n",
       "0      klimsky\n",
       "2       fili_q\n",
       "4    destralll\n",
       "Name: Username, dtype: object"
      ]
     },
     "execution_count": 31,
     "metadata": {},
     "output_type": "execute_result"
    }
   ],
   "execution_count": 31
  },
  {
   "metadata": {
    "ExecuteTime": {
     "end_time": "2024-07-23T07:00:22.964824Z",
     "start_time": "2024-07-23T07:00:22.959008Z"
    }
   },
   "cell_type": "code",
   "source": "",
   "id": "2978daeed99eca89",
   "outputs": [],
   "execution_count": 31
  }
 ],
 "metadata": {
  "kernelspec": {
   "display_name": "Python 3",
   "language": "python",
   "name": "python3"
  },
  "language_info": {
   "codemirror_mode": {
    "name": "ipython",
    "version": 2
   },
   "file_extension": ".py",
   "mimetype": "text/x-python",
   "name": "python",
   "nbconvert_exporter": "python",
   "pygments_lexer": "ipython2",
   "version": "2.7.6"
  }
 },
 "nbformat": 4,
 "nbformat_minor": 5
}

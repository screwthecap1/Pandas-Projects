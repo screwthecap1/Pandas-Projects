{
 "cells": [
  {
   "metadata": {
    "ExecuteTime": {
     "end_time": "2024-07-23T09:22:11.637903Z",
     "start_time": "2024-07-23T09:22:10.035363Z"
    }
   },
   "cell_type": "code",
   "source": "!pip install openpyxl matplotlib",
   "id": "9adb9a636d012715",
   "outputs": [
    {
     "name": "stdout",
     "output_type": "stream",
     "text": [
      "Requirement already satisfied: openpyxl in c:\\users\\pc\\appdata\\local\\packages\\pythonsoftwarefoundation.python.3.11_qbz5n2kfra8p0\\localcache\\local-packages\\python311\\site-packages (3.1.5)\n",
      "Requirement already satisfied: matplotlib in c:\\users\\pc\\appdata\\local\\packages\\pythonsoftwarefoundation.python.3.11_qbz5n2kfra8p0\\localcache\\local-packages\\python311\\site-packages (3.9.1)\n",
      "Requirement already satisfied: et-xmlfile in c:\\users\\pc\\appdata\\local\\packages\\pythonsoftwarefoundation.python.3.11_qbz5n2kfra8p0\\localcache\\local-packages\\python311\\site-packages (from openpyxl) (1.1.0)\n",
      "Requirement already satisfied: contourpy>=1.0.1 in c:\\users\\pc\\appdata\\local\\packages\\pythonsoftwarefoundation.python.3.11_qbz5n2kfra8p0\\localcache\\local-packages\\python311\\site-packages (from matplotlib) (1.2.1)\n",
      "Requirement already satisfied: cycler>=0.10 in c:\\users\\pc\\appdata\\local\\packages\\pythonsoftwarefoundation.python.3.11_qbz5n2kfra8p0\\localcache\\local-packages\\python311\\site-packages (from matplotlib) (0.12.1)\n",
      "Requirement already satisfied: fonttools>=4.22.0 in c:\\users\\pc\\appdata\\local\\packages\\pythonsoftwarefoundation.python.3.11_qbz5n2kfra8p0\\localcache\\local-packages\\python311\\site-packages (from matplotlib) (4.53.1)\n",
      "Requirement already satisfied: kiwisolver>=1.3.1 in c:\\users\\pc\\appdata\\local\\packages\\pythonsoftwarefoundation.python.3.11_qbz5n2kfra8p0\\localcache\\local-packages\\python311\\site-packages (from matplotlib) (1.4.5)\n",
      "Requirement already satisfied: numpy>=1.23 in c:\\users\\pc\\appdata\\local\\packages\\pythonsoftwarefoundation.python.3.11_qbz5n2kfra8p0\\localcache\\local-packages\\python311\\site-packages (from matplotlib) (2.0.0)\n",
      "Requirement already satisfied: packaging>=20.0 in c:\\users\\pc\\appdata\\local\\packages\\pythonsoftwarefoundation.python.3.11_qbz5n2kfra8p0\\localcache\\local-packages\\python311\\site-packages (from matplotlib) (24.1)\n",
      "Requirement already satisfied: pillow>=8 in c:\\users\\pc\\appdata\\local\\packages\\pythonsoftwarefoundation.python.3.11_qbz5n2kfra8p0\\localcache\\local-packages\\python311\\site-packages (from matplotlib) (10.4.0)\n",
      "Requirement already satisfied: pyparsing>=2.3.1 in c:\\users\\pc\\appdata\\local\\packages\\pythonsoftwarefoundation.python.3.11_qbz5n2kfra8p0\\localcache\\local-packages\\python311\\site-packages (from matplotlib) (3.1.2)\n",
      "Requirement already satisfied: python-dateutil>=2.7 in c:\\users\\pc\\appdata\\local\\packages\\pythonsoftwarefoundation.python.3.11_qbz5n2kfra8p0\\localcache\\local-packages\\python311\\site-packages (from matplotlib) (2.9.0.post0)\n",
      "Requirement already satisfied: six>=1.5 in c:\\users\\pc\\appdata\\local\\packages\\pythonsoftwarefoundation.python.3.11_qbz5n2kfra8p0\\localcache\\local-packages\\python311\\site-packages (from python-dateutil>=2.7->matplotlib) (1.16.0)\n"
     ]
    },
    {
     "name": "stderr",
     "output_type": "stream",
     "text": [
      "\n",
      "[notice] A new release of pip is available: 24.0 -> 24.1.2\n",
      "[notice] To update, run: C:\\Users\\PC\\AppData\\Local\\Microsoft\\WindowsApps\\PythonSoftwareFoundation.Python.3.11_qbz5n2kfra8p0\\python.exe -m pip install --upgrade pip\n"
     ]
    }
   ],
   "execution_count": 1
  },
  {
   "cell_type": "code",
   "id": "initial_id",
   "metadata": {
    "collapsed": true,
    "ExecuteTime": {
     "end_time": "2024-07-23T09:22:12.211868Z",
     "start_time": "2024-07-23T09:22:11.637903Z"
    }
   },
   "source": [
    "import pandas as pd\n",
    "import numpy as np\n",
    "import matplotlib.pyplot as plt"
   ],
   "outputs": [],
   "execution_count": 2
  },
  {
   "metadata": {
    "ExecuteTime": {
     "end_time": "2024-07-23T09:22:12.228811Z",
     "start_time": "2024-07-23T09:22:12.211868Z"
    }
   },
   "cell_type": "code",
   "source": [
    "np.random.seed(1)\n",
    "n = 100\n",
    "dates = pd.date_range(start = '2050-01-01', periods=n, freq='D')\n",
    "products = np.random.choice(['Tablet', 'Camera', 'Phone', 'Mic', 'Keyboard'], n)\n",
    "prices = np.round(np.random.uniform(50, 200.0, n), 2)\n",
    "quantities = np.random.randint(1, 15, n)\n",
    "\n",
    "data = {\n",
    "    'Date': dates,\n",
    "    'Product': products,\n",
    "    'Price': prices,\n",
    "    'Quantity': quantities\n",
    "}\n",
    "df = pd.DataFrame(data)\n",
    "df"
   ],
   "id": "30bf40907517496c",
   "outputs": [
    {
     "data": {
      "text/plain": [
       "         Date   Product   Price  Quantity\n",
       "0  2050-01-01       Mic  147.16         7\n",
       "1  2050-01-02  Keyboard  103.09        10\n",
       "2  2050-01-03    Tablet  164.48         7\n",
       "3  2050-01-04    Camera  103.48         1\n",
       "4  2050-01-05       Mic  162.92         1\n",
       "..        ...       ...     ...       ...\n",
       "95 2050-04-06     Phone  119.32         8\n",
       "96 2050-04-07    Tablet   69.84         7\n",
       "97 2050-04-08     Phone  164.64         3\n",
       "98 2050-04-09  Keyboard   81.91        11\n",
       "99 2050-04-10    Camera   61.14        13\n",
       "\n",
       "[100 rows x 4 columns]"
      ],
      "text/html": [
       "<div>\n",
       "<style scoped>\n",
       "    .dataframe tbody tr th:only-of-type {\n",
       "        vertical-align: middle;\n",
       "    }\n",
       "\n",
       "    .dataframe tbody tr th {\n",
       "        vertical-align: top;\n",
       "    }\n",
       "\n",
       "    .dataframe thead th {\n",
       "        text-align: right;\n",
       "    }\n",
       "</style>\n",
       "<table border=\"1\" class=\"dataframe\">\n",
       "  <thead>\n",
       "    <tr style=\"text-align: right;\">\n",
       "      <th></th>\n",
       "      <th>Date</th>\n",
       "      <th>Product</th>\n",
       "      <th>Price</th>\n",
       "      <th>Quantity</th>\n",
       "    </tr>\n",
       "  </thead>\n",
       "  <tbody>\n",
       "    <tr>\n",
       "      <th>0</th>\n",
       "      <td>2050-01-01</td>\n",
       "      <td>Mic</td>\n",
       "      <td>147.16</td>\n",
       "      <td>7</td>\n",
       "    </tr>\n",
       "    <tr>\n",
       "      <th>1</th>\n",
       "      <td>2050-01-02</td>\n",
       "      <td>Keyboard</td>\n",
       "      <td>103.09</td>\n",
       "      <td>10</td>\n",
       "    </tr>\n",
       "    <tr>\n",
       "      <th>2</th>\n",
       "      <td>2050-01-03</td>\n",
       "      <td>Tablet</td>\n",
       "      <td>164.48</td>\n",
       "      <td>7</td>\n",
       "    </tr>\n",
       "    <tr>\n",
       "      <th>3</th>\n",
       "      <td>2050-01-04</td>\n",
       "      <td>Camera</td>\n",
       "      <td>103.48</td>\n",
       "      <td>1</td>\n",
       "    </tr>\n",
       "    <tr>\n",
       "      <th>4</th>\n",
       "      <td>2050-01-05</td>\n",
       "      <td>Mic</td>\n",
       "      <td>162.92</td>\n",
       "      <td>1</td>\n",
       "    </tr>\n",
       "    <tr>\n",
       "      <th>...</th>\n",
       "      <td>...</td>\n",
       "      <td>...</td>\n",
       "      <td>...</td>\n",
       "      <td>...</td>\n",
       "    </tr>\n",
       "    <tr>\n",
       "      <th>95</th>\n",
       "      <td>2050-04-06</td>\n",
       "      <td>Phone</td>\n",
       "      <td>119.32</td>\n",
       "      <td>8</td>\n",
       "    </tr>\n",
       "    <tr>\n",
       "      <th>96</th>\n",
       "      <td>2050-04-07</td>\n",
       "      <td>Tablet</td>\n",
       "      <td>69.84</td>\n",
       "      <td>7</td>\n",
       "    </tr>\n",
       "    <tr>\n",
       "      <th>97</th>\n",
       "      <td>2050-04-08</td>\n",
       "      <td>Phone</td>\n",
       "      <td>164.64</td>\n",
       "      <td>3</td>\n",
       "    </tr>\n",
       "    <tr>\n",
       "      <th>98</th>\n",
       "      <td>2050-04-09</td>\n",
       "      <td>Keyboard</td>\n",
       "      <td>81.91</td>\n",
       "      <td>11</td>\n",
       "    </tr>\n",
       "    <tr>\n",
       "      <th>99</th>\n",
       "      <td>2050-04-10</td>\n",
       "      <td>Camera</td>\n",
       "      <td>61.14</td>\n",
       "      <td>13</td>\n",
       "    </tr>\n",
       "  </tbody>\n",
       "</table>\n",
       "<p>100 rows × 4 columns</p>\n",
       "</div>"
      ]
     },
     "execution_count": 3,
     "metadata": {},
     "output_type": "execute_result"
    }
   ],
   "execution_count": 3
  },
  {
   "metadata": {
    "ExecuteTime": {
     "end_time": "2024-07-23T09:22:12.234670Z",
     "start_time": "2024-07-23T09:22:12.228811Z"
    }
   },
   "cell_type": "code",
   "source": "df.dtypes",
   "id": "b9b9c9fcf55dd8d8",
   "outputs": [
    {
     "data": {
      "text/plain": [
       "Date        datetime64[ns]\n",
       "Product             object\n",
       "Price              float64\n",
       "Quantity             int32\n",
       "dtype: object"
      ]
     },
     "execution_count": 4,
     "metadata": {},
     "output_type": "execute_result"
    }
   ],
   "execution_count": 4
  },
  {
   "metadata": {
    "ExecuteTime": {
     "end_time": "2024-07-23T09:22:12.242513Z",
     "start_time": "2024-07-23T09:22:12.235787Z"
    }
   },
   "cell_type": "code",
   "source": "df.to_csv('random_sales.csv', index=False)",
   "id": "6db157dde4d20967",
   "outputs": [],
   "execution_count": 5
  },
  {
   "metadata": {
    "ExecuteTime": {
     "end_time": "2024-07-23T09:22:12.253633Z",
     "start_time": "2024-07-23T09:22:12.242513Z"
    }
   },
   "cell_type": "code",
   "source": [
    "df = pd.read_csv('random_sales.csv', parse_dates=['Date'], date_format='%Y-%m-%d')\n",
    "df"
   ],
   "id": "32d026e93a118adc",
   "outputs": [
    {
     "data": {
      "text/plain": [
       "         Date   Product   Price  Quantity\n",
       "0  2050-01-01       Mic  147.16         7\n",
       "1  2050-01-02  Keyboard  103.09        10\n",
       "2  2050-01-03    Tablet  164.48         7\n",
       "3  2050-01-04    Camera  103.48         1\n",
       "4  2050-01-05       Mic  162.92         1\n",
       "..        ...       ...     ...       ...\n",
       "95 2050-04-06     Phone  119.32         8\n",
       "96 2050-04-07    Tablet   69.84         7\n",
       "97 2050-04-08     Phone  164.64         3\n",
       "98 2050-04-09  Keyboard   81.91        11\n",
       "99 2050-04-10    Camera   61.14        13\n",
       "\n",
       "[100 rows x 4 columns]"
      ],
      "text/html": [
       "<div>\n",
       "<style scoped>\n",
       "    .dataframe tbody tr th:only-of-type {\n",
       "        vertical-align: middle;\n",
       "    }\n",
       "\n",
       "    .dataframe tbody tr th {\n",
       "        vertical-align: top;\n",
       "    }\n",
       "\n",
       "    .dataframe thead th {\n",
       "        text-align: right;\n",
       "    }\n",
       "</style>\n",
       "<table border=\"1\" class=\"dataframe\">\n",
       "  <thead>\n",
       "    <tr style=\"text-align: right;\">\n",
       "      <th></th>\n",
       "      <th>Date</th>\n",
       "      <th>Product</th>\n",
       "      <th>Price</th>\n",
       "      <th>Quantity</th>\n",
       "    </tr>\n",
       "  </thead>\n",
       "  <tbody>\n",
       "    <tr>\n",
       "      <th>0</th>\n",
       "      <td>2050-01-01</td>\n",
       "      <td>Mic</td>\n",
       "      <td>147.16</td>\n",
       "      <td>7</td>\n",
       "    </tr>\n",
       "    <tr>\n",
       "      <th>1</th>\n",
       "      <td>2050-01-02</td>\n",
       "      <td>Keyboard</td>\n",
       "      <td>103.09</td>\n",
       "      <td>10</td>\n",
       "    </tr>\n",
       "    <tr>\n",
       "      <th>2</th>\n",
       "      <td>2050-01-03</td>\n",
       "      <td>Tablet</td>\n",
       "      <td>164.48</td>\n",
       "      <td>7</td>\n",
       "    </tr>\n",
       "    <tr>\n",
       "      <th>3</th>\n",
       "      <td>2050-01-04</td>\n",
       "      <td>Camera</td>\n",
       "      <td>103.48</td>\n",
       "      <td>1</td>\n",
       "    </tr>\n",
       "    <tr>\n",
       "      <th>4</th>\n",
       "      <td>2050-01-05</td>\n",
       "      <td>Mic</td>\n",
       "      <td>162.92</td>\n",
       "      <td>1</td>\n",
       "    </tr>\n",
       "    <tr>\n",
       "      <th>...</th>\n",
       "      <td>...</td>\n",
       "      <td>...</td>\n",
       "      <td>...</td>\n",
       "      <td>...</td>\n",
       "    </tr>\n",
       "    <tr>\n",
       "      <th>95</th>\n",
       "      <td>2050-04-06</td>\n",
       "      <td>Phone</td>\n",
       "      <td>119.32</td>\n",
       "      <td>8</td>\n",
       "    </tr>\n",
       "    <tr>\n",
       "      <th>96</th>\n",
       "      <td>2050-04-07</td>\n",
       "      <td>Tablet</td>\n",
       "      <td>69.84</td>\n",
       "      <td>7</td>\n",
       "    </tr>\n",
       "    <tr>\n",
       "      <th>97</th>\n",
       "      <td>2050-04-08</td>\n",
       "      <td>Phone</td>\n",
       "      <td>164.64</td>\n",
       "      <td>3</td>\n",
       "    </tr>\n",
       "    <tr>\n",
       "      <th>98</th>\n",
       "      <td>2050-04-09</td>\n",
       "      <td>Keyboard</td>\n",
       "      <td>81.91</td>\n",
       "      <td>11</td>\n",
       "    </tr>\n",
       "    <tr>\n",
       "      <th>99</th>\n",
       "      <td>2050-04-10</td>\n",
       "      <td>Camera</td>\n",
       "      <td>61.14</td>\n",
       "      <td>13</td>\n",
       "    </tr>\n",
       "  </tbody>\n",
       "</table>\n",
       "<p>100 rows × 4 columns</p>\n",
       "</div>"
      ]
     },
     "execution_count": 6,
     "metadata": {},
     "output_type": "execute_result"
    }
   ],
   "execution_count": 6
  },
  {
   "metadata": {
    "ExecuteTime": {
     "end_time": "2024-07-23T09:22:12.259796Z",
     "start_time": "2024-07-23T09:22:12.253633Z"
    }
   },
   "cell_type": "code",
   "source": "df.dtypes",
   "id": "4d90a66017cacdac",
   "outputs": [
    {
     "data": {
      "text/plain": [
       "Date        datetime64[ns]\n",
       "Product             object\n",
       "Price              float64\n",
       "Quantity             int64\n",
       "dtype: object"
      ]
     },
     "execution_count": 7,
     "metadata": {},
     "output_type": "execute_result"
    }
   ],
   "execution_count": 7
  },
  {
   "metadata": {
    "ExecuteTime": {
     "end_time": "2024-07-23T09:22:12.527400Z",
     "start_time": "2024-07-23T09:22:12.259796Z"
    }
   },
   "cell_type": "code",
   "source": "df.to_excel('sales_data.xlsx', index=False)",
   "id": "b4e82f98270eeca7",
   "outputs": [],
   "execution_count": 8
  },
  {
   "metadata": {
    "ExecuteTime": {
     "end_time": "2024-07-23T09:22:12.532207Z",
     "start_time": "2024-07-23T09:22:12.527400Z"
    }
   },
   "cell_type": "code",
   "source": "df.to_json('sales_data.json')",
   "id": "c2a3b156d508adc1",
   "outputs": [],
   "execution_count": 9
  },
  {
   "metadata": {
    "ExecuteTime": {
     "end_time": "2024-07-23T09:22:12.545414Z",
     "start_time": "2024-07-23T09:22:12.532207Z"
    }
   },
   "cell_type": "code",
   "source": "df.describe()",
   "id": "ac4f6df67384efa0",
   "outputs": [
    {
     "data": {
      "text/plain": [
       "                      Date       Price    Quantity\n",
       "count                  100  100.000000  100.000000\n",
       "mean   2050-02-19 12:00:00  117.319000    7.790000\n",
       "min    2050-01-01 00:00:00   51.350000    1.000000\n",
       "25%    2050-01-25 18:00:00   81.130000    5.000000\n",
       "50%    2050-02-19 12:00:00  114.105000    8.000000\n",
       "75%    2050-03-16 06:00:00  161.207500   11.250000\n",
       "max    2050-04-10 00:00:00  197.260000   14.000000\n",
       "std                    NaN   42.469805    4.030928"
      ],
      "text/html": [
       "<div>\n",
       "<style scoped>\n",
       "    .dataframe tbody tr th:only-of-type {\n",
       "        vertical-align: middle;\n",
       "    }\n",
       "\n",
       "    .dataframe tbody tr th {\n",
       "        vertical-align: top;\n",
       "    }\n",
       "\n",
       "    .dataframe thead th {\n",
       "        text-align: right;\n",
       "    }\n",
       "</style>\n",
       "<table border=\"1\" class=\"dataframe\">\n",
       "  <thead>\n",
       "    <tr style=\"text-align: right;\">\n",
       "      <th></th>\n",
       "      <th>Date</th>\n",
       "      <th>Price</th>\n",
       "      <th>Quantity</th>\n",
       "    </tr>\n",
       "  </thead>\n",
       "  <tbody>\n",
       "    <tr>\n",
       "      <th>count</th>\n",
       "      <td>100</td>\n",
       "      <td>100.000000</td>\n",
       "      <td>100.000000</td>\n",
       "    </tr>\n",
       "    <tr>\n",
       "      <th>mean</th>\n",
       "      <td>2050-02-19 12:00:00</td>\n",
       "      <td>117.319000</td>\n",
       "      <td>7.790000</td>\n",
       "    </tr>\n",
       "    <tr>\n",
       "      <th>min</th>\n",
       "      <td>2050-01-01 00:00:00</td>\n",
       "      <td>51.350000</td>\n",
       "      <td>1.000000</td>\n",
       "    </tr>\n",
       "    <tr>\n",
       "      <th>25%</th>\n",
       "      <td>2050-01-25 18:00:00</td>\n",
       "      <td>81.130000</td>\n",
       "      <td>5.000000</td>\n",
       "    </tr>\n",
       "    <tr>\n",
       "      <th>50%</th>\n",
       "      <td>2050-02-19 12:00:00</td>\n",
       "      <td>114.105000</td>\n",
       "      <td>8.000000</td>\n",
       "    </tr>\n",
       "    <tr>\n",
       "      <th>75%</th>\n",
       "      <td>2050-03-16 06:00:00</td>\n",
       "      <td>161.207500</td>\n",
       "      <td>11.250000</td>\n",
       "    </tr>\n",
       "    <tr>\n",
       "      <th>max</th>\n",
       "      <td>2050-04-10 00:00:00</td>\n",
       "      <td>197.260000</td>\n",
       "      <td>14.000000</td>\n",
       "    </tr>\n",
       "    <tr>\n",
       "      <th>std</th>\n",
       "      <td>NaN</td>\n",
       "      <td>42.469805</td>\n",
       "      <td>4.030928</td>\n",
       "    </tr>\n",
       "  </tbody>\n",
       "</table>\n",
       "</div>"
      ]
     },
     "execution_count": 10,
     "metadata": {},
     "output_type": "execute_result"
    }
   ],
   "execution_count": 10
  },
  {
   "metadata": {
    "ExecuteTime": {
     "end_time": "2024-07-23T09:22:12.551465Z",
     "start_time": "2024-07-23T09:22:12.545414Z"
    }
   },
   "cell_type": "code",
   "source": "df.values",
   "id": "3815b5b1150833dd",
   "outputs": [
    {
     "data": {
      "text/plain": [
       "array([[Timestamp('2050-01-01 00:00:00'), 'Mic', 147.16, 7],\n",
       "       [Timestamp('2050-01-02 00:00:00'), 'Keyboard', 103.09, 10],\n",
       "       [Timestamp('2050-01-03 00:00:00'), 'Tablet', 164.48, 7],\n",
       "       [Timestamp('2050-01-04 00:00:00'), 'Camera', 103.48, 1],\n",
       "       [Timestamp('2050-01-05 00:00:00'), 'Mic', 162.92, 1],\n",
       "       [Timestamp('2050-01-06 00:00:00'), 'Tablet', 182.2, 3],\n",
       "       [Timestamp('2050-01-07 00:00:00'), 'Tablet', 51.75, 13],\n",
       "       [Timestamp('2050-01-08 00:00:00'), 'Camera', 124.72, 10],\n",
       "       [Timestamp('2050-01-09 00:00:00'), 'Keyboard', 61.07, 7],\n",
       "       [Timestamp('2050-01-10 00:00:00'), 'Keyboard', 168.04, 1],\n",
       "       [Timestamp('2050-01-11 00:00:00'), 'Camera', 59.61, 7],\n",
       "       [Timestamp('2050-01-12 00:00:00'), 'Phone', 103.3, 8],\n",
       "       [Timestamp('2050-01-13 00:00:00'), 'Keyboard', 191.28, 1],\n",
       "       [Timestamp('2050-01-14 00:00:00'), 'Phone', 106.97, 4],\n",
       "       [Timestamp('2050-01-15 00:00:00'), 'Keyboard', 164.44, 10],\n",
       "       [Timestamp('2050-01-16 00:00:00'), 'Mic', 165.74, 1],\n",
       "       [Timestamp('2050-01-17 00:00:00'), 'Keyboard', 95.2, 13],\n",
       "       [Timestamp('2050-01-18 00:00:00'), 'Phone', 165.91, 4],\n",
       "       [Timestamp('2050-01-19 00:00:00'), 'Keyboard', 72.94, 11],\n",
       "       [Timestamp('2050-01-20 00:00:00'), 'Phone', 136.8, 12],\n",
       "       [Timestamp('2050-01-21 00:00:00'), 'Keyboard', 51.35, 5],\n",
       "       [Timestamp('2050-01-22 00:00:00'), 'Camera', 156.36, 8],\n",
       "       [Timestamp('2050-01-23 00:00:00'), 'Camera', 120.6, 6],\n",
       "       [Timestamp('2050-01-24 00:00:00'), 'Tablet', 164.69, 13],\n",
       "       [Timestamp('2050-01-25 00:00:00'), 'Camera', 120.11, 4],\n",
       "       [Timestamp('2050-01-26 00:00:00'), 'Camera', 90.35, 9],\n",
       "       [Timestamp('2050-01-27 00:00:00'), 'Camera', 174.75, 9],\n",
       "       [Timestamp('2050-01-28 00:00:00'), 'Camera', 132.7, 1],\n",
       "       [Timestamp('2050-01-29 00:00:00'), 'Tablet', 60.51, 7],\n",
       "       [Timestamp('2050-01-30 00:00:00'), 'Keyboard', 120.87, 8],\n",
       "       [Timestamp('2050-01-31 00:00:00'), 'Camera', 161.41, 13],\n",
       "       [Timestamp('2050-02-01 00:00:00'), 'Tablet', 78.79, 14],\n",
       "       [Timestamp('2050-02-02 00:00:00'), 'Tablet', 119.65, 10],\n",
       "       [Timestamp('2050-02-03 00:00:00'), 'Mic', 84.55, 6],\n",
       "       [Timestamp('2050-02-04 00:00:00'), 'Phone', 126.24, 5],\n",
       "       [Timestamp('2050-02-05 00:00:00'), 'Camera', 81.29, 10],\n",
       "       [Timestamp('2050-02-06 00:00:00'), 'Tablet', 57.4, 11],\n",
       "       [Timestamp('2050-02-07 00:00:00'), 'Mic', 127.83, 6],\n",
       "       [Timestamp('2050-02-08 00:00:00'), 'Camera', 75.84, 3],\n",
       "       [Timestamp('2050-02-09 00:00:00'), 'Camera', 109.45, 14],\n",
       "       [Timestamp('2050-02-10 00:00:00'), 'Mic', 66.1, 13],\n",
       "       [Timestamp('2050-02-11 00:00:00'), 'Keyboard', 126.47, 6],\n",
       "       [Timestamp('2050-02-12 00:00:00'), 'Tablet', 65.32, 7],\n",
       "       [Timestamp('2050-02-13 00:00:00'), 'Camera', 93.31, 12],\n",
       "       [Timestamp('2050-02-14 00:00:00'), 'Mic', 84.76, 7],\n",
       "       [Timestamp('2050-02-15 00:00:00'), 'Keyboard', 195.15, 13],\n",
       "       [Timestamp('2050-02-16 00:00:00'), 'Phone', 91.75, 13],\n",
       "       [Timestamp('2050-02-17 00:00:00'), 'Keyboard', 85.04, 9],\n",
       "       [Timestamp('2050-02-18 00:00:00'), 'Tablet', 63.73, 12],\n",
       "       [Timestamp('2050-02-19 00:00:00'), 'Mic', 135.51, 11],\n",
       "       [Timestamp('2050-02-20 00:00:00'), 'Camera', 112.69, 13],\n",
       "       [Timestamp('2050-02-21 00:00:00'), 'Phone', 105.18, 8],\n",
       "       [Timestamp('2050-02-22 00:00:00'), 'Tablet', 171.95, 8],\n",
       "       [Timestamp('2050-02-23 00:00:00'), 'Keyboard', 93.46, 8],\n",
       "       [Timestamp('2050-02-24 00:00:00'), 'Camera', 157.61, 14],\n",
       "       [Timestamp('2050-02-25 00:00:00'), 'Phone', 141.94, 12],\n",
       "       [Timestamp('2050-02-26 00:00:00'), 'Phone', 114.04, 13],\n",
       "       [Timestamp('2050-02-27 00:00:00'), 'Camera', 162.78, 3],\n",
       "       [Timestamp('2050-02-28 00:00:00'), 'Tablet', 114.17, 7],\n",
       "       [Timestamp('2050-03-01 00:00:00'), 'Camera', 114.26, 12],\n",
       "       [Timestamp('2050-03-02 00:00:00'), 'Mic', 104.29, 1],\n",
       "       [Timestamp('2050-03-03 00:00:00'), 'Keyboard', 73.0, 14],\n",
       "       [Timestamp('2050-03-04 00:00:00'), 'Mic', 190.58, 6],\n",
       "       [Timestamp('2050-03-05 00:00:00'), 'Camera', 187.46, 3],\n",
       "       [Timestamp('2050-03-06 00:00:00'), 'Mic', 167.29, 2],\n",
       "       [Timestamp('2050-03-07 00:00:00'), 'Tablet', 142.45, 12],\n",
       "       [Timestamp('2050-03-08 00:00:00'), 'Tablet', 55.4, 11],\n",
       "       [Timestamp('2050-03-09 00:00:00'), 'Phone', 148.15, 9],\n",
       "       [Timestamp('2050-03-10 00:00:00'), 'Phone', 69.47, 6],\n",
       "       [Timestamp('2050-03-11 00:00:00'), 'Camera', 94.15, 10],\n",
       "       [Timestamp('2050-03-12 00:00:00'), 'Mic', 104.12, 5],\n",
       "       [Timestamp('2050-03-13 00:00:00'), 'Keyboard', 91.2, 10],\n",
       "       [Timestamp('2050-03-14 00:00:00'), 'Phone', 61.1, 12],\n",
       "       [Timestamp('2050-03-15 00:00:00'), 'Tablet', 72.82, 12],\n",
       "       [Timestamp('2050-03-16 00:00:00'), 'Tablet', 74.24, 2],\n",
       "       [Timestamp('2050-03-17 00:00:00'), 'Camera', 190.81, 3],\n",
       "       [Timestamp('2050-03-18 00:00:00'), 'Camera', 105.67, 1],\n",
       "       [Timestamp('2050-03-19 00:00:00'), 'Mic', 57.5, 11],\n",
       "       [Timestamp('2050-03-20 00:00:00'), 'Tablet', 161.14, 5],\n",
       "       [Timestamp('2050-03-21 00:00:00'), 'Tablet', 94.8, 8],\n",
       "       [Timestamp('2050-03-22 00:00:00'), 'Keyboard', 80.65, 1],\n",
       "       [Timestamp('2050-03-23 00:00:00'), 'Phone', 197.26, 7],\n",
       "       [Timestamp('2050-03-24 00:00:00'), 'Keyboard', 183.95, 3],\n",
       "       [Timestamp('2050-03-25 00:00:00'), 'Mic', 163.9, 5],\n",
       "       [Timestamp('2050-03-26 00:00:00'), 'Mic', 147.67, 4],\n",
       "       [Timestamp('2050-03-27 00:00:00'), 'Tablet', 55.95, 7],\n",
       "       [Timestamp('2050-03-28 00:00:00'), 'Mic', 172.08, 13],\n",
       "       [Timestamp('2050-03-29 00:00:00'), 'Keyboard', 164.39, 8],\n",
       "       [Timestamp('2050-03-30 00:00:00'), 'Mic', 118.29, 7],\n",
       "       [Timestamp('2050-03-31 00:00:00'), 'Keyboard', 129.77, 4],\n",
       "       [Timestamp('2050-04-01 00:00:00'), 'Keyboard', 66.4, 1],\n",
       "       [Timestamp('2050-04-02 00:00:00'), 'Keyboard', 71.9, 14],\n",
       "       [Timestamp('2050-04-03 00:00:00'), 'Camera', 126.32, 7],\n",
       "       [Timestamp('2050-04-04 00:00:00'), 'Tablet', 82.35, 14],\n",
       "       [Timestamp('2050-04-05 00:00:00'), 'Keyboard', 187.47, 5],\n",
       "       [Timestamp('2050-04-06 00:00:00'), 'Phone', 119.32, 8],\n",
       "       [Timestamp('2050-04-07 00:00:00'), 'Tablet', 69.84, 7],\n",
       "       [Timestamp('2050-04-08 00:00:00'), 'Phone', 164.64, 3],\n",
       "       [Timestamp('2050-04-09 00:00:00'), 'Keyboard', 81.91, 11],\n",
       "       [Timestamp('2050-04-10 00:00:00'), 'Camera', 61.14, 13]],\n",
       "      dtype=object)"
      ]
     },
     "execution_count": 11,
     "metadata": {},
     "output_type": "execute_result"
    }
   ],
   "execution_count": 11
  },
  {
   "metadata": {
    "ExecuteTime": {
     "end_time": "2024-07-23T09:22:12.556488Z",
     "start_time": "2024-07-23T09:22:12.551465Z"
    }
   },
   "cell_type": "code",
   "source": "df.values[:3]",
   "id": "395e393f8f0d7775",
   "outputs": [
    {
     "data": {
      "text/plain": [
       "array([[Timestamp('2050-01-01 00:00:00'), 'Mic', 147.16, 7],\n",
       "       [Timestamp('2050-01-02 00:00:00'), 'Keyboard', 103.09, 10],\n",
       "       [Timestamp('2050-01-03 00:00:00'), 'Tablet', 164.48, 7]],\n",
       "      dtype=object)"
      ]
     },
     "execution_count": 12,
     "metadata": {},
     "output_type": "execute_result"
    }
   ],
   "execution_count": 12
  },
  {
   "metadata": {
    "ExecuteTime": {
     "end_time": "2024-07-23T09:22:12.563339Z",
     "start_time": "2024-07-23T09:22:12.556488Z"
    }
   },
   "cell_type": "code",
   "source": "df.groupby",
   "id": "b90eae82671647bd",
   "outputs": [
    {
     "data": {
      "text/plain": [
       "<bound method DataFrame.groupby of          Date   Product   Price  Quantity\n",
       "0  2050-01-01       Mic  147.16         7\n",
       "1  2050-01-02  Keyboard  103.09        10\n",
       "2  2050-01-03    Tablet  164.48         7\n",
       "3  2050-01-04    Camera  103.48         1\n",
       "4  2050-01-05       Mic  162.92         1\n",
       "..        ...       ...     ...       ...\n",
       "95 2050-04-06     Phone  119.32         8\n",
       "96 2050-04-07    Tablet   69.84         7\n",
       "97 2050-04-08     Phone  164.64         3\n",
       "98 2050-04-09  Keyboard   81.91        11\n",
       "99 2050-04-10    Camera   61.14        13\n",
       "\n",
       "[100 rows x 4 columns]>"
      ]
     },
     "execution_count": 13,
     "metadata": {},
     "output_type": "execute_result"
    }
   ],
   "execution_count": 13
  },
  {
   "metadata": {
    "ExecuteTime": {
     "end_time": "2024-07-23T09:22:12.571469Z",
     "start_time": "2024-07-23T09:22:12.565423Z"
    }
   },
   "cell_type": "code",
   "source": [
    "product_sales = df.groupby('Product')['Quantity'].sum()\n",
    "product_sales"
   ],
   "id": "265621ca094970a",
   "outputs": [
    {
     "data": {
      "text/plain": [
       "Product\n",
       "Camera      186\n",
       "Keyboard    173\n",
       "Mic         106\n",
       "Phone       124\n",
       "Tablet      190\n",
       "Name: Quantity, dtype: int64"
      ]
     },
     "execution_count": 14,
     "metadata": {},
     "output_type": "execute_result"
    }
   ],
   "execution_count": 14
  },
  {
   "metadata": {
    "ExecuteTime": {
     "end_time": "2024-07-23T09:23:53.920419Z",
     "start_time": "2024-07-23T09:23:53.906476Z"
    }
   },
   "cell_type": "code",
   "source": [
    "average_prices = df.groupby('Product')['Price'].mean().round(2)\n",
    "average_prices"
   ],
   "id": "f08e358da75708",
   "outputs": [
    {
     "data": {
      "text/plain": [
       "Product\n",
       "Camera      121.54\n",
       "Keyboard    115.61\n",
       "Mic         129.43\n",
       "Phone       123.47\n",
       "Tablet      100.17\n",
       "Name: Price, dtype: float64"
      ]
     },
     "execution_count": 19,
     "metadata": {},
     "output_type": "execute_result"
    }
   ],
   "execution_count": 19
  },
  {
   "metadata": {
    "ExecuteTime": {
     "end_time": "2024-07-23T09:23:14.228561Z",
     "start_time": "2024-07-23T09:23:14.149066Z"
    }
   },
   "cell_type": "code",
   "source": [
    "plt.bar(product_sales.index, product_sales.values)\n",
    "plt.title(\"Sales by Product\")\n",
    "plt.xlabel(\"Product\")\n",
    "plt.ylabel(\"Quantity\")\n",
    "plt.show()"
   ],
   "id": "77040eda8f33790c",
   "outputs": [
    {
     "data": {
      "text/plain": [
       "<Figure size 640x480 with 1 Axes>"
      ],
      "image/png": "[encoded data removed]"
     },
     "metadata": {},
     "output_type": "display_data"
    }
   ],
   "execution_count": 18
  },
  {
   "metadata": {
    "ExecuteTime": {
     "end_time": "2024-07-23T09:24:59.705009Z",
     "start_time": "2024-07-23T09:24:59.611260Z"
    }
   },
   "cell_type": "code",
   "source": [
    "plt.plot(average_prices.index, average_prices.values)\n",
    "plt.title(\"Sales by Average Price\")\n",
    "plt.xlabel(\"Product\")\n",
    "plt.ylabel(\"Average Price\")"
   ],
   "id": "b6ae2db06252ab37",
   "outputs": [
    {
     "data": {
      "text/plain": [
       "Text(0, 0.5, 'Average Price')"
      ]
     },
     "execution_count": 23,
     "metadata": {},
     "output_type": "execute_result"
    },
    {
     "data": {
      "text/plain": [
       "<Figure size 640x480 with 1 Axes>"
      ],
      "image/png": "[encoded data removed]"
     },
     "metadata": {},
     "output_type": "display_data"
    }
   ],
   "execution_count": 23
  },
  {
   "metadata": {},
   "cell_type": "code",
   "outputs": [],
   "execution_count": null,
   "source": "",
   "id": "5e359dc95bf2d920"
  }
 ],
 "metadata": {
  "kernelspec": {
   "display_name": "Python 3",
   "language": "python",
   "name": "python3"
  },
  "language_info": {
   "codemirror_mode": {
    "name": "ipython",
    "version": 2
   },
   "file_extension": ".py",
   "mimetype": "text/x-python",
   "name": "python",
   "nbconvert_exporter": "python",
   "pygments_lexer": "ipython2",
   "version": "2.7.6"
  }
 },
 "nbformat": 4,
 "nbformat_minor": 5
}
